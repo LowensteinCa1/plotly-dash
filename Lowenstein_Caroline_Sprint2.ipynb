{
 "cells": [
  {
   "cell_type": "markdown",
   "metadata": {},
   "source": [
    "## Starbucks Drink Analysis\n",
    "### Caroline Lowenstein\n",
    "### DS 4003"
   ]
  },
  {
   "cell_type": "markdown",
   "metadata": {},
   "source": [
    "### Data Background information\n",
    "\n",
    "This data was collected to answer the following questions:\n",
    "    - Can you train a Markov Chain to generate new Starbucks drink or food items?\n",
    "    - Can you design an easy-to-interpret visualization for the nutrition of each item?\n",
    "    - How to Starbucks menu items compare to McDonald’s menu items (see link to dataset below) in terms of nutrition?\n",
    "\n",
    "I just looked at the Starbucks data, not the McDonald's data.\n",
    "\n",
    "Starbucks is the owner of the data and the admin is a woman named Rachael Tatman\n",
    "\n",
    "Tatmam works for Kaggle, and she collected the data to answer the above questions and give to kaggle users to manipulate. \n",
    "\n",
    "The data description can be found here: https://www.kaggle.com/datasets/starbucks/starbucks-menu\n",
    "\n",
    "\n",
    "I chose this data because I wanted my project to be centered around food, and I am a frequent starbucks goer.  There was a lot of data, and I can picture different ways I can manipulate it and create visual representations of it. \n"
   ]
  },
  {
   "cell_type": "code",
   "execution_count": 1,
   "metadata": {},
   "outputs": [],
   "source": [
    "#import dependencies\n",
    "import pandas as pd\n",
    "import seaborn as sns\n",
    "import plotly.express as px\n",
    "import matplotlib.pyplot as plt\n",
    "import numpy as np\n",
    "\n"
   ]
  },
  {
   "cell_type": "code",
   "execution_count": 2,
   "metadata": {},
   "outputs": [],
   "source": [
    "#load in data\n",
    "df=pd.read_csv('/Users/carolinelowenstein/Desktop/everything/DS/potential data sets/starbucks data/starbucks_drinkMenu_expanded.csv')"
   ]
  },
  {
   "cell_type": "markdown",
   "metadata": {},
   "source": [
    "General Information:"
   ]
  },
  {
   "cell_type": "code",
   "execution_count": 3,
   "metadata": {},
   "outputs": [
    {
     "data": {
      "text/html": [
       "<div>\n",
       "<style scoped>\n",
       "    .dataframe tbody tr th:only-of-type {\n",
       "        vertical-align: middle;\n",
       "    }\n",
       "\n",
       "    .dataframe tbody tr th {\n",
       "        vertical-align: top;\n",
       "    }\n",
       "\n",
       "    .dataframe thead th {\n",
       "        text-align: right;\n",
       "    }\n",
       "</style>\n",
       "<table border=\"1\" class=\"dataframe\">\n",
       "  <thead>\n",
       "    <tr style=\"text-align: right;\">\n",
       "      <th></th>\n",
       "      <th>Beverage_category</th>\n",
       "      <th>Beverage</th>\n",
       "      <th>Beverage_prep</th>\n",
       "      <th>Calories</th>\n",
       "      <th>Total Fat (g)</th>\n",
       "      <th>Trans Fat (g)</th>\n",
       "      <th>Saturated Fat (g)</th>\n",
       "      <th>Sodium (mg)</th>\n",
       "      <th>Total Carbohydrates (g)</th>\n",
       "      <th>Cholesterol (mg)</th>\n",
       "      <th>Dietary Fibre (g)</th>\n",
       "      <th>Sugars (g)</th>\n",
       "      <th>Protein (g)</th>\n",
       "      <th>Vitamin A (% DV)</th>\n",
       "      <th>Vitamin C (% DV)</th>\n",
       "      <th>Calcium (% DV)</th>\n",
       "      <th>Iron (% DV)</th>\n",
       "      <th>Caffeine (mg)</th>\n",
       "    </tr>\n",
       "  </thead>\n",
       "  <tbody>\n",
       "    <tr>\n",
       "      <th>0</th>\n",
       "      <td>Coffee</td>\n",
       "      <td>Brewed Coffee</td>\n",
       "      <td>Short</td>\n",
       "      <td>3</td>\n",
       "      <td>0.1</td>\n",
       "      <td>0.0</td>\n",
       "      <td>0.0</td>\n",
       "      <td>0</td>\n",
       "      <td>5</td>\n",
       "      <td>0</td>\n",
       "      <td>0</td>\n",
       "      <td>0</td>\n",
       "      <td>0.3</td>\n",
       "      <td>0%</td>\n",
       "      <td>0%</td>\n",
       "      <td>0%</td>\n",
       "      <td>0%</td>\n",
       "      <td>175</td>\n",
       "    </tr>\n",
       "    <tr>\n",
       "      <th>1</th>\n",
       "      <td>Coffee</td>\n",
       "      <td>Brewed Coffee</td>\n",
       "      <td>Tall</td>\n",
       "      <td>4</td>\n",
       "      <td>0.1</td>\n",
       "      <td>0.0</td>\n",
       "      <td>0.0</td>\n",
       "      <td>0</td>\n",
       "      <td>10</td>\n",
       "      <td>0</td>\n",
       "      <td>0</td>\n",
       "      <td>0</td>\n",
       "      <td>0.5</td>\n",
       "      <td>0%</td>\n",
       "      <td>0%</td>\n",
       "      <td>0%</td>\n",
       "      <td>0%</td>\n",
       "      <td>260</td>\n",
       "    </tr>\n",
       "    <tr>\n",
       "      <th>2</th>\n",
       "      <td>Coffee</td>\n",
       "      <td>Brewed Coffee</td>\n",
       "      <td>Grande</td>\n",
       "      <td>5</td>\n",
       "      <td>0.1</td>\n",
       "      <td>0.0</td>\n",
       "      <td>0.0</td>\n",
       "      <td>0</td>\n",
       "      <td>10</td>\n",
       "      <td>0</td>\n",
       "      <td>0</td>\n",
       "      <td>0</td>\n",
       "      <td>1.0</td>\n",
       "      <td>0%</td>\n",
       "      <td>0%</td>\n",
       "      <td>0%</td>\n",
       "      <td>0%</td>\n",
       "      <td>330</td>\n",
       "    </tr>\n",
       "    <tr>\n",
       "      <th>3</th>\n",
       "      <td>Coffee</td>\n",
       "      <td>Brewed Coffee</td>\n",
       "      <td>Venti</td>\n",
       "      <td>5</td>\n",
       "      <td>0.1</td>\n",
       "      <td>0.0</td>\n",
       "      <td>0.0</td>\n",
       "      <td>0</td>\n",
       "      <td>10</td>\n",
       "      <td>0</td>\n",
       "      <td>0</td>\n",
       "      <td>0</td>\n",
       "      <td>1.0</td>\n",
       "      <td>0%</td>\n",
       "      <td>0%</td>\n",
       "      <td>2%</td>\n",
       "      <td>0%</td>\n",
       "      <td>410</td>\n",
       "    </tr>\n",
       "    <tr>\n",
       "      <th>4</th>\n",
       "      <td>Classic Espresso Drinks</td>\n",
       "      <td>Caffè Latte</td>\n",
       "      <td>Short Nonfat Milk</td>\n",
       "      <td>70</td>\n",
       "      <td>0.1</td>\n",
       "      <td>0.1</td>\n",
       "      <td>0.0</td>\n",
       "      <td>5</td>\n",
       "      <td>75</td>\n",
       "      <td>10</td>\n",
       "      <td>0</td>\n",
       "      <td>9</td>\n",
       "      <td>6.0</td>\n",
       "      <td>10%</td>\n",
       "      <td>0%</td>\n",
       "      <td>20%</td>\n",
       "      <td>0%</td>\n",
       "      <td>75</td>\n",
       "    </tr>\n",
       "  </tbody>\n",
       "</table>\n",
       "</div>"
      ],
      "text/plain": [
       "         Beverage_category       Beverage      Beverage_prep  Calories  \\\n",
       "0                   Coffee  Brewed Coffee              Short         3   \n",
       "1                   Coffee  Brewed Coffee               Tall         4   \n",
       "2                   Coffee  Brewed Coffee             Grande         5   \n",
       "3                   Coffee  Brewed Coffee              Venti         5   \n",
       "4  Classic Espresso Drinks    Caffè Latte  Short Nonfat Milk        70   \n",
       "\n",
       "   Total Fat (g)  Trans Fat (g)   Saturated Fat (g)   Sodium (mg)  \\\n",
       "0            0.1             0.0                0.0             0   \n",
       "1            0.1             0.0                0.0             0   \n",
       "2            0.1             0.0                0.0             0   \n",
       "3            0.1             0.0                0.0             0   \n",
       "4            0.1             0.1                0.0             5   \n",
       "\n",
       "    Total Carbohydrates (g)   Cholesterol (mg)   Dietary Fibre (g)  \\\n",
       "0                          5                 0                   0   \n",
       "1                         10                 0                   0   \n",
       "2                         10                 0                   0   \n",
       "3                         10                 0                   0   \n",
       "4                         75                10                   0   \n",
       "\n",
       "    Sugars (g)   Protein (g)  Vitamin A (% DV)  Vitamin C (% DV)  \\\n",
       "0            0            0.3                0%               0%   \n",
       "1            0            0.5                0%               0%   \n",
       "2            0            1.0                0%               0%   \n",
       "3            0            1.0                0%               0%   \n",
       "4            9            6.0               10%               0%   \n",
       "\n",
       "   Calcium (% DV)  Iron (% DV)  Caffeine (mg)  \n",
       "0               0%           0%           175  \n",
       "1               0%           0%           260  \n",
       "2               0%           0%           330  \n",
       "3               2%           0%           410  \n",
       "4              20%           0%            75  "
      ]
     },
     "execution_count": 3,
     "metadata": {},
     "output_type": "execute_result"
    }
   ],
   "source": [
    "#analyze the first 5 rows\n",
    "df.head()"
   ]
  },
  {
   "cell_type": "code",
   "execution_count": 4,
   "metadata": {},
   "outputs": [
    {
     "name": "stdout",
     "output_type": "stream",
     "text": [
      "<class 'pandas.core.frame.DataFrame'>\n",
      "RangeIndex: 242 entries, 0 to 241\n",
      "Data columns (total 18 columns):\n",
      " #   Column                     Non-Null Count  Dtype  \n",
      "---  ------                     --------------  -----  \n",
      " 0   Beverage_category          242 non-null    object \n",
      " 1   Beverage                   242 non-null    object \n",
      " 2   Beverage_prep              242 non-null    object \n",
      " 3   Calories                   242 non-null    int64  \n",
      " 4    Total Fat (g)             242 non-null    object \n",
      " 5   Trans Fat (g)              242 non-null    float64\n",
      " 6   Saturated Fat (g)          242 non-null    float64\n",
      " 7    Sodium (mg)               242 non-null    int64  \n",
      " 8    Total Carbohydrates (g)   242 non-null    int64  \n",
      " 9   Cholesterol (mg)           242 non-null    int64  \n",
      " 10   Dietary Fibre (g)         242 non-null    int64  \n",
      " 11   Sugars (g)                242 non-null    int64  \n",
      " 12   Protein (g)               242 non-null    float64\n",
      " 13  Vitamin A (% DV)           242 non-null    object \n",
      " 14  Vitamin C (% DV)           242 non-null    object \n",
      " 15   Calcium (% DV)            242 non-null    object \n",
      " 16  Iron (% DV)                242 non-null    object \n",
      " 17  Caffeine (mg)              241 non-null    object \n",
      "dtypes: float64(3), int64(6), object(9)\n",
      "memory usage: 34.2+ KB\n"
     ]
    }
   ],
   "source": [
    "#looking at basic information about the dataframe\n",
    "df.info()"
   ]
  },
  {
   "cell_type": "code",
   "execution_count": 5,
   "metadata": {},
   "outputs": [
    {
     "data": {
      "text/plain": [
       "Beverage_category            0\n",
       "Beverage                     0\n",
       "Beverage_prep                0\n",
       "Calories                     0\n",
       " Total Fat (g)               0\n",
       "Trans Fat (g)                0\n",
       "Saturated Fat (g)            0\n",
       " Sodium (mg)                 0\n",
       " Total Carbohydrates (g)     0\n",
       "Cholesterol (mg)             0\n",
       " Dietary Fibre (g)           0\n",
       " Sugars (g)                  0\n",
       " Protein (g)                 0\n",
       "Vitamin A (% DV)             0\n",
       "Vitamin C (% DV)             0\n",
       " Calcium (% DV)              0\n",
       "Iron (% DV)                  0\n",
       "Caffeine (mg)                1\n",
       "dtype: int64"
      ]
     },
     "execution_count": 5,
     "metadata": {},
     "output_type": "execute_result"
    }
   ],
   "source": [
    "#look for missing data\n",
    "df.isna().sum()"
   ]
  },
  {
   "cell_type": "markdown",
   "metadata": {},
   "source": [
    "Drop Missing Data"
   ]
  },
  {
   "cell_type": "code",
   "execution_count": 6,
   "metadata": {},
   "outputs": [
    {
     "name": "stdout",
     "output_type": "stream",
     "text": [
      "<bound method DataFrame.isnull of               Beverage_category                                      Beverage  \\\n",
      "0                        Coffee                                 Brewed Coffee   \n",
      "1                        Coffee                                 Brewed Coffee   \n",
      "2                        Coffee                                 Brewed Coffee   \n",
      "3                        Coffee                                 Brewed Coffee   \n",
      "4       Classic Espresso Drinks                                   Caffè Latte   \n",
      "..                          ...                                           ...   \n",
      "237  Frappuccino® Blended Crème  Strawberries & Crème (Without Whipped Cream)   \n",
      "238  Frappuccino® Blended Crème          Vanilla Bean (Without Whipped Cream)   \n",
      "239  Frappuccino® Blended Crème          Vanilla Bean (Without Whipped Cream)   \n",
      "240  Frappuccino® Blended Crème          Vanilla Bean (Without Whipped Cream)   \n",
      "241  Frappuccino® Blended Crème          Vanilla Bean (Without Whipped Cream)   \n",
      "\n",
      "          Beverage_prep  Calories  Total Fat (g)  Trans Fat (g)   \\\n",
      "0                 Short         3            0.1             0.0   \n",
      "1                  Tall         4            0.1             0.0   \n",
      "2                Grande         5            0.1             0.0   \n",
      "3                 Venti         5            0.1             0.0   \n",
      "4     Short Nonfat Milk        70            0.1             0.1   \n",
      "..                  ...       ...            ...             ...   \n",
      "237             Soymilk       320            3 2             0.4   \n",
      "238    Tall Nonfat Milk       170            0.1             0.1   \n",
      "239          Whole Milk       200            3.5             2.0   \n",
      "240             Soymilk       180            1.5             0.2   \n",
      "241  Grande Nonfat Milk       240            0.1             0.1   \n",
      "\n",
      "     Saturated Fat (g)   Sodium (mg)   Total Carbohydrates (g)   \\\n",
      "0                  0.0             0                          5   \n",
      "1                  0.0             0                         10   \n",
      "2                  0.0             0                         10   \n",
      "3                  0.0             0                         10   \n",
      "4                  0.0             5                         75   \n",
      "..                 ...           ...                        ...   \n",
      "237                0.0             0                        250   \n",
      "238                0.0             0                        160   \n",
      "239                0.1            10                        160   \n",
      "240                0.0             0                        160   \n",
      "241                0.0             5                        230   \n",
      "\n",
      "     Cholesterol (mg)   Dietary Fibre (g)   Sugars (g)   Protein (g)   \\\n",
      "0                   0                   0            0            0.3   \n",
      "1                   0                   0            0            0.5   \n",
      "2                   0                   0            0            1.0   \n",
      "3                   0                   0            0            1.0   \n",
      "4                  10                   0            9            6.0   \n",
      "..                ...                 ...          ...            ...   \n",
      "237                67                   1           64            5.0   \n",
      "238                39                   0           38            4.0   \n",
      "239                39                   0           38            3.0   \n",
      "240                37                   1           35            3.0   \n",
      "241                56                   0           55            5.0   \n",
      "\n",
      "    Vitamin A (% DV)  Vitamin C (% DV)  Calcium (% DV)  Iron (% DV)   \\\n",
      "0                  0%               0%               0%           0%   \n",
      "1                  0%               0%               0%           0%   \n",
      "2                  0%               0%               0%           0%   \n",
      "3                  0%               0%               2%           0%   \n",
      "4                 10%               0%              20%           0%   \n",
      "..                ...              ...              ...          ...   \n",
      "237                6%               8%              20%          10%   \n",
      "238                6%               0%              10%           0%   \n",
      "239                6%               0%              10%           0%   \n",
      "240                4%               0%              10%           6%   \n",
      "241                8%               0%              15%           0%   \n",
      "\n",
      "    Caffeine (mg)  \n",
      "0             175  \n",
      "1             260  \n",
      "2             330  \n",
      "3             410  \n",
      "4              75  \n",
      "..            ...  \n",
      "237             0  \n",
      "238             0  \n",
      "239             0  \n",
      "240             0  \n",
      "241             0  \n",
      "\n",
      "[241 rows x 18 columns]>\n"
     ]
    }
   ],
   "source": [
    "#drop missing data\n",
    "df.dropna(inplace=True)\n",
    "print(df.isnull)"
   ]
  },
  {
   "cell_type": "code",
   "execution_count": 7,
   "metadata": {},
   "outputs": [
    {
     "data": {
      "text/plain": [
       "Beverage_category            0\n",
       "Beverage                     0\n",
       "Beverage_prep                0\n",
       "Calories                     0\n",
       " Total Fat (g)               0\n",
       "Trans Fat (g)                0\n",
       "Saturated Fat (g)            0\n",
       " Sodium (mg)                 0\n",
       " Total Carbohydrates (g)     0\n",
       "Cholesterol (mg)             0\n",
       " Dietary Fibre (g)           0\n",
       " Sugars (g)                  0\n",
       " Protein (g)                 0\n",
       "Vitamin A (% DV)             0\n",
       "Vitamin C (% DV)             0\n",
       " Calcium (% DV)              0\n",
       "Iron (% DV)                  0\n",
       "Caffeine (mg)                0\n",
       "dtype: int64"
      ]
     },
     "execution_count": 7,
     "metadata": {},
     "output_type": "execute_result"
    }
   ],
   "source": [
    "#checking the miss value is gone\n",
    "df.isna().sum()"
   ]
  },
  {
   "cell_type": "markdown",
   "metadata": {},
   "source": [
    "Analyzing the Beverage column"
   ]
  },
  {
   "cell_type": "code",
   "execution_count": 8,
   "metadata": {},
   "outputs": [
    {
     "data": {
      "text/plain": [
       "array(['Brewed Coffee', 'Caffè Latte',\n",
       "       'Caffè Mocha (Without Whipped Cream)',\n",
       "       'Vanilla Latte (Or Other Flavoured Latte)', 'Caffè Americano',\n",
       "       'Cappuccino', 'Espresso', 'Skinny Latte (Any Flavour)',\n",
       "       'Caramel Macchiato',\n",
       "       'White Chocolate Mocha (Without Whipped Cream)',\n",
       "       'Hot Chocolate (Without Whipped Cream)',\n",
       "       'Caramel Apple Spice (Without Whipped Cream)', 'Tazo® Tea',\n",
       "       'Tazo® Chai Tea Latte', 'Tazo® Green Tea Latte',\n",
       "       'Tazo® Full-Leaf Tea Latte',\n",
       "       'Tazo® Full-Leaf Red Tea Latte (Vanilla Rooibos)',\n",
       "       'Iced Brewed Coffee (With Classic Syrup)',\n",
       "       'Iced Brewed Coffee (With Milk & Classic Syrup)',\n",
       "       'Shaken Iced Tazo® Tea (With Classic Syrup)',\n",
       "       'Shaken Iced Tazo® Tea Lemonade (With Classic Syrup)',\n",
       "       'Banana Chocolate Smoothie', 'Orange Mango Banana Smoothie',\n",
       "       'Strawberry Banana Smoothie', 'Coffee',\n",
       "       'Mocha (Without Whipped Cream)', 'Caramel (Without Whipped Cream)',\n",
       "       'Java Chip (Without Whipped Cream)', 'Mocha', 'Caramel',\n",
       "       'Java Chip', 'Strawberries & Crème (Without Whipped Cream)',\n",
       "       'Vanilla Bean (Without Whipped Cream)'], dtype=object)"
      ]
     },
     "execution_count": 8,
     "metadata": {},
     "output_type": "execute_result"
    }
   ],
   "source": [
    "#finding the unique values in the beverage column \n",
    "df.Beverage.unique()"
   ]
  },
  {
   "cell_type": "code",
   "execution_count": 9,
   "metadata": {},
   "outputs": [],
   "source": [
    "#changing names to drop \"Without Whipped Cream,\" because all of the drinks are without whipped cream; adding a note to metadata that all data is without whipped cream\n",
    "df= df.set_index('Beverage')\n",
    "df= df.rename(index={\"Strawberries & Crème (Without Whipped Cream)\": \"Strawberries & Crème\"})\n",
    "df= df.rename(index={\"Vanilla Bean (Without Whipped Cream)\": \"Vanilla Bean\"})\n",
    "df= df.rename(index={\"Java Chip (Without Whipped Cream)\": \"Java Chip\"})\n",
    "df= df.rename(index={\"Caramel (Without Whipped Cream)\": \"Caramel\"})\n",
    "df= df.rename(index={\"Mocha (Without Whipped Cream)\": \"Mocha\"})\n",
    "df= df.rename(index={\"Hot Chocolate (Without Whipped Cream)\": \"Hot Chocolate\"})\n",
    "df= df.rename(index={\"Caramel Apple Spice (Without Whipped Cream)\": \"Caramel Apple Spice\"})\n",
    "df= df.rename(index={\"White Chocolate Mocha (Without Whipped Cream)\": \"White Chocolate Mocha\"})\n",
    "df= df.rename(index={\"Caffè Mocha (Without Whipped Cream)\": \"Caffè Mocha\"})\n",
    "\n",
    "#change Vanilla Latte and Skinny  Latte name to shorten it\n",
    "df= df.rename(index={\"Vanilla Latte (Or Other Flavoured Latte)\": \"Flavored Latte\"})\n",
    "df= df.rename(index={\"Skinny Latte (Any Flavour)'\": \"Skinny Flavored Latte\"})\n",
    "\n"
   ]
  },
  {
   "cell_type": "code",
   "execution_count": 10,
   "metadata": {},
   "outputs": [
    {
     "data": {
      "text/html": [
       "<div>\n",
       "<style scoped>\n",
       "    .dataframe tbody tr th:only-of-type {\n",
       "        vertical-align: middle;\n",
       "    }\n",
       "\n",
       "    .dataframe tbody tr th {\n",
       "        vertical-align: top;\n",
       "    }\n",
       "\n",
       "    .dataframe thead th {\n",
       "        text-align: right;\n",
       "    }\n",
       "</style>\n",
       "<table border=\"1\" class=\"dataframe\">\n",
       "  <thead>\n",
       "    <tr style=\"text-align: right;\">\n",
       "      <th></th>\n",
       "      <th>Beverage_category</th>\n",
       "      <th>Beverage_prep</th>\n",
       "      <th>Calories</th>\n",
       "      <th>Total Fat (g)</th>\n",
       "      <th>Trans Fat (g)</th>\n",
       "      <th>Saturated Fat (g)</th>\n",
       "      <th>Sodium (mg)</th>\n",
       "      <th>Total Carbohydrates (g)</th>\n",
       "      <th>Cholesterol (mg)</th>\n",
       "      <th>Dietary Fibre (g)</th>\n",
       "      <th>Sugars (g)</th>\n",
       "      <th>Protein (g)</th>\n",
       "      <th>Vitamin A (% DV)</th>\n",
       "      <th>Vitamin C (% DV)</th>\n",
       "      <th>Calcium (% DV)</th>\n",
       "      <th>Iron (% DV)</th>\n",
       "      <th>Caffeine (mg)</th>\n",
       "    </tr>\n",
       "    <tr>\n",
       "      <th>Beverage</th>\n",
       "      <th></th>\n",
       "      <th></th>\n",
       "      <th></th>\n",
       "      <th></th>\n",
       "      <th></th>\n",
       "      <th></th>\n",
       "      <th></th>\n",
       "      <th></th>\n",
       "      <th></th>\n",
       "      <th></th>\n",
       "      <th></th>\n",
       "      <th></th>\n",
       "      <th></th>\n",
       "      <th></th>\n",
       "      <th></th>\n",
       "      <th></th>\n",
       "      <th></th>\n",
       "    </tr>\n",
       "  </thead>\n",
       "  <tbody>\n",
       "    <tr>\n",
       "      <th>Brewed Coffee</th>\n",
       "      <td>Coffee</td>\n",
       "      <td>Short</td>\n",
       "      <td>3</td>\n",
       "      <td>0.1</td>\n",
       "      <td>0.0</td>\n",
       "      <td>0.0</td>\n",
       "      <td>0</td>\n",
       "      <td>5</td>\n",
       "      <td>0</td>\n",
       "      <td>0</td>\n",
       "      <td>0</td>\n",
       "      <td>0.3</td>\n",
       "      <td>0%</td>\n",
       "      <td>0%</td>\n",
       "      <td>0%</td>\n",
       "      <td>0%</td>\n",
       "      <td>175</td>\n",
       "    </tr>\n",
       "    <tr>\n",
       "      <th>Brewed Coffee</th>\n",
       "      <td>Coffee</td>\n",
       "      <td>Tall</td>\n",
       "      <td>4</td>\n",
       "      <td>0.1</td>\n",
       "      <td>0.0</td>\n",
       "      <td>0.0</td>\n",
       "      <td>0</td>\n",
       "      <td>10</td>\n",
       "      <td>0</td>\n",
       "      <td>0</td>\n",
       "      <td>0</td>\n",
       "      <td>0.5</td>\n",
       "      <td>0%</td>\n",
       "      <td>0%</td>\n",
       "      <td>0%</td>\n",
       "      <td>0%</td>\n",
       "      <td>260</td>\n",
       "    </tr>\n",
       "    <tr>\n",
       "      <th>Brewed Coffee</th>\n",
       "      <td>Coffee</td>\n",
       "      <td>Grande</td>\n",
       "      <td>5</td>\n",
       "      <td>0.1</td>\n",
       "      <td>0.0</td>\n",
       "      <td>0.0</td>\n",
       "      <td>0</td>\n",
       "      <td>10</td>\n",
       "      <td>0</td>\n",
       "      <td>0</td>\n",
       "      <td>0</td>\n",
       "      <td>1.0</td>\n",
       "      <td>0%</td>\n",
       "      <td>0%</td>\n",
       "      <td>0%</td>\n",
       "      <td>0%</td>\n",
       "      <td>330</td>\n",
       "    </tr>\n",
       "    <tr>\n",
       "      <th>Brewed Coffee</th>\n",
       "      <td>Coffee</td>\n",
       "      <td>Venti</td>\n",
       "      <td>5</td>\n",
       "      <td>0.1</td>\n",
       "      <td>0.0</td>\n",
       "      <td>0.0</td>\n",
       "      <td>0</td>\n",
       "      <td>10</td>\n",
       "      <td>0</td>\n",
       "      <td>0</td>\n",
       "      <td>0</td>\n",
       "      <td>1.0</td>\n",
       "      <td>0%</td>\n",
       "      <td>0%</td>\n",
       "      <td>2%</td>\n",
       "      <td>0%</td>\n",
       "      <td>410</td>\n",
       "    </tr>\n",
       "    <tr>\n",
       "      <th>Caffè Latte</th>\n",
       "      <td>Classic Espresso Drinks</td>\n",
       "      <td>Short Nonfat Milk</td>\n",
       "      <td>70</td>\n",
       "      <td>0.1</td>\n",
       "      <td>0.1</td>\n",
       "      <td>0.0</td>\n",
       "      <td>5</td>\n",
       "      <td>75</td>\n",
       "      <td>10</td>\n",
       "      <td>0</td>\n",
       "      <td>9</td>\n",
       "      <td>6.0</td>\n",
       "      <td>10%</td>\n",
       "      <td>0%</td>\n",
       "      <td>20%</td>\n",
       "      <td>0%</td>\n",
       "      <td>75</td>\n",
       "    </tr>\n",
       "    <tr>\n",
       "      <th>...</th>\n",
       "      <td>...</td>\n",
       "      <td>...</td>\n",
       "      <td>...</td>\n",
       "      <td>...</td>\n",
       "      <td>...</td>\n",
       "      <td>...</td>\n",
       "      <td>...</td>\n",
       "      <td>...</td>\n",
       "      <td>...</td>\n",
       "      <td>...</td>\n",
       "      <td>...</td>\n",
       "      <td>...</td>\n",
       "      <td>...</td>\n",
       "      <td>...</td>\n",
       "      <td>...</td>\n",
       "      <td>...</td>\n",
       "      <td>...</td>\n",
       "    </tr>\n",
       "    <tr>\n",
       "      <th>Strawberries &amp; Crème</th>\n",
       "      <td>Frappuccino® Blended Crème</td>\n",
       "      <td>Soymilk</td>\n",
       "      <td>320</td>\n",
       "      <td>3 2</td>\n",
       "      <td>0.4</td>\n",
       "      <td>0.0</td>\n",
       "      <td>0</td>\n",
       "      <td>250</td>\n",
       "      <td>67</td>\n",
       "      <td>1</td>\n",
       "      <td>64</td>\n",
       "      <td>5.0</td>\n",
       "      <td>6%</td>\n",
       "      <td>8%</td>\n",
       "      <td>20%</td>\n",
       "      <td>10%</td>\n",
       "      <td>0</td>\n",
       "    </tr>\n",
       "    <tr>\n",
       "      <th>Vanilla Bean</th>\n",
       "      <td>Frappuccino® Blended Crème</td>\n",
       "      <td>Tall Nonfat Milk</td>\n",
       "      <td>170</td>\n",
       "      <td>0.1</td>\n",
       "      <td>0.1</td>\n",
       "      <td>0.0</td>\n",
       "      <td>0</td>\n",
       "      <td>160</td>\n",
       "      <td>39</td>\n",
       "      <td>0</td>\n",
       "      <td>38</td>\n",
       "      <td>4.0</td>\n",
       "      <td>6%</td>\n",
       "      <td>0%</td>\n",
       "      <td>10%</td>\n",
       "      <td>0%</td>\n",
       "      <td>0</td>\n",
       "    </tr>\n",
       "    <tr>\n",
       "      <th>Vanilla Bean</th>\n",
       "      <td>Frappuccino® Blended Crème</td>\n",
       "      <td>Whole Milk</td>\n",
       "      <td>200</td>\n",
       "      <td>3.5</td>\n",
       "      <td>2.0</td>\n",
       "      <td>0.1</td>\n",
       "      <td>10</td>\n",
       "      <td>160</td>\n",
       "      <td>39</td>\n",
       "      <td>0</td>\n",
       "      <td>38</td>\n",
       "      <td>3.0</td>\n",
       "      <td>6%</td>\n",
       "      <td>0%</td>\n",
       "      <td>10%</td>\n",
       "      <td>0%</td>\n",
       "      <td>0</td>\n",
       "    </tr>\n",
       "    <tr>\n",
       "      <th>Vanilla Bean</th>\n",
       "      <td>Frappuccino® Blended Crème</td>\n",
       "      <td>Soymilk</td>\n",
       "      <td>180</td>\n",
       "      <td>1.5</td>\n",
       "      <td>0.2</td>\n",
       "      <td>0.0</td>\n",
       "      <td>0</td>\n",
       "      <td>160</td>\n",
       "      <td>37</td>\n",
       "      <td>1</td>\n",
       "      <td>35</td>\n",
       "      <td>3.0</td>\n",
       "      <td>4%</td>\n",
       "      <td>0%</td>\n",
       "      <td>10%</td>\n",
       "      <td>6%</td>\n",
       "      <td>0</td>\n",
       "    </tr>\n",
       "    <tr>\n",
       "      <th>Vanilla Bean</th>\n",
       "      <td>Frappuccino® Blended Crème</td>\n",
       "      <td>Grande Nonfat Milk</td>\n",
       "      <td>240</td>\n",
       "      <td>0.1</td>\n",
       "      <td>0.1</td>\n",
       "      <td>0.0</td>\n",
       "      <td>5</td>\n",
       "      <td>230</td>\n",
       "      <td>56</td>\n",
       "      <td>0</td>\n",
       "      <td>55</td>\n",
       "      <td>5.0</td>\n",
       "      <td>8%</td>\n",
       "      <td>0%</td>\n",
       "      <td>15%</td>\n",
       "      <td>0%</td>\n",
       "      <td>0</td>\n",
       "    </tr>\n",
       "  </tbody>\n",
       "</table>\n",
       "<p>241 rows × 17 columns</p>\n",
       "</div>"
      ],
      "text/plain": [
       "                               Beverage_category       Beverage_prep  \\\n",
       "Beverage                                                               \n",
       "Brewed Coffee                             Coffee               Short   \n",
       "Brewed Coffee                             Coffee                Tall   \n",
       "Brewed Coffee                             Coffee              Grande   \n",
       "Brewed Coffee                             Coffee               Venti   \n",
       "Caffè Latte              Classic Espresso Drinks   Short Nonfat Milk   \n",
       "...                                          ...                 ...   \n",
       "Strawberries & Crème  Frappuccino® Blended Crème             Soymilk   \n",
       "Vanilla Bean          Frappuccino® Blended Crème    Tall Nonfat Milk   \n",
       "Vanilla Bean          Frappuccino® Blended Crème          Whole Milk   \n",
       "Vanilla Bean          Frappuccino® Blended Crème             Soymilk   \n",
       "Vanilla Bean          Frappuccino® Blended Crème  Grande Nonfat Milk   \n",
       "\n",
       "                      Calories  Total Fat (g)  Trans Fat (g)   \\\n",
       "Beverage                                                        \n",
       "Brewed Coffee                3            0.1             0.0   \n",
       "Brewed Coffee                4            0.1             0.0   \n",
       "Brewed Coffee                5            0.1             0.0   \n",
       "Brewed Coffee                5            0.1             0.0   \n",
       "Caffè Latte                 70            0.1             0.1   \n",
       "...                        ...            ...             ...   \n",
       "Strawberries & Crème       320            3 2             0.4   \n",
       "Vanilla Bean               170            0.1             0.1   \n",
       "Vanilla Bean               200            3.5             2.0   \n",
       "Vanilla Bean               180            1.5             0.2   \n",
       "Vanilla Bean               240            0.1             0.1   \n",
       "\n",
       "                      Saturated Fat (g)   Sodium (mg)  \\\n",
       "Beverage                                                \n",
       "Brewed Coffee                       0.0             0   \n",
       "Brewed Coffee                       0.0             0   \n",
       "Brewed Coffee                       0.0             0   \n",
       "Brewed Coffee                       0.0             0   \n",
       "Caffè Latte                         0.0             5   \n",
       "...                                 ...           ...   \n",
       "Strawberries & Crème                0.0             0   \n",
       "Vanilla Bean                        0.0             0   \n",
       "Vanilla Bean                        0.1            10   \n",
       "Vanilla Bean                        0.0             0   \n",
       "Vanilla Bean                        0.0             5   \n",
       "\n",
       "                       Total Carbohydrates (g)   Cholesterol (mg)  \\\n",
       "Beverage                                                            \n",
       "Brewed Coffee                                 5                 0   \n",
       "Brewed Coffee                                10                 0   \n",
       "Brewed Coffee                                10                 0   \n",
       "Brewed Coffee                                10                 0   \n",
       "Caffè Latte                                  75                10   \n",
       "...                                         ...               ...   \n",
       "Strawberries & Crème                        250                67   \n",
       "Vanilla Bean                                160                39   \n",
       "Vanilla Bean                                160                39   \n",
       "Vanilla Bean                                160                37   \n",
       "Vanilla Bean                                230                56   \n",
       "\n",
       "                       Dietary Fibre (g)   Sugars (g)   Protein (g)   \\\n",
       "Beverage                                                               \n",
       "Brewed Coffee                          0            0            0.3   \n",
       "Brewed Coffee                          0            0            0.5   \n",
       "Brewed Coffee                          0            0            1.0   \n",
       "Brewed Coffee                          0            0            1.0   \n",
       "Caffè Latte                            0            9            6.0   \n",
       "...                                  ...          ...            ...   \n",
       "Strawberries & Crème                   1           64            5.0   \n",
       "Vanilla Bean                           0           38            4.0   \n",
       "Vanilla Bean                           0           38            3.0   \n",
       "Vanilla Bean                           1           35            3.0   \n",
       "Vanilla Bean                           0           55            5.0   \n",
       "\n",
       "                     Vitamin A (% DV)  Vitamin C (% DV)  Calcium (% DV)   \\\n",
       "Beverage                                                                   \n",
       "Brewed Coffee                       0%               0%               0%   \n",
       "Brewed Coffee                       0%               0%               0%   \n",
       "Brewed Coffee                       0%               0%               0%   \n",
       "Brewed Coffee                       0%               0%               2%   \n",
       "Caffè Latte                        10%               0%              20%   \n",
       "...                                ...              ...              ...   \n",
       "Strawberries & Crème                6%               8%              20%   \n",
       "Vanilla Bean                        6%               0%              10%   \n",
       "Vanilla Bean                        6%               0%              10%   \n",
       "Vanilla Bean                        4%               0%              10%   \n",
       "Vanilla Bean                        8%               0%              15%   \n",
       "\n",
       "                     Iron (% DV)  Caffeine (mg)  \n",
       "Beverage                                         \n",
       "Brewed Coffee                  0%           175  \n",
       "Brewed Coffee                  0%           260  \n",
       "Brewed Coffee                  0%           330  \n",
       "Brewed Coffee                  0%           410  \n",
       "Caffè Latte                    0%            75  \n",
       "...                           ...           ...  \n",
       "Strawberries & Crème          10%             0  \n",
       "Vanilla Bean                   0%             0  \n",
       "Vanilla Bean                   0%             0  \n",
       "Vanilla Bean                   6%             0  \n",
       "Vanilla Bean                   0%             0  \n",
       "\n",
       "[241 rows x 17 columns]"
      ]
     },
     "execution_count": 10,
     "metadata": {},
     "output_type": "execute_result"
    }
   ],
   "source": [
    "df"
   ]
  },
  {
   "cell_type": "markdown",
   "metadata": {},
   "source": [
    "Changing column names and dropping columns"
   ]
  },
  {
   "cell_type": "code",
   "execution_count": 11,
   "metadata": {},
   "outputs": [
    {
     "data": {
      "text/html": [
       "<div>\n",
       "<style scoped>\n",
       "    .dataframe tbody tr th:only-of-type {\n",
       "        vertical-align: middle;\n",
       "    }\n",
       "\n",
       "    .dataframe tbody tr th {\n",
       "        vertical-align: top;\n",
       "    }\n",
       "\n",
       "    .dataframe thead th {\n",
       "        text-align: right;\n",
       "    }\n",
       "</style>\n",
       "<table border=\"1\" class=\"dataframe\">\n",
       "  <thead>\n",
       "    <tr style=\"text-align: right;\">\n",
       "      <th></th>\n",
       "      <th>Beverage_category</th>\n",
       "      <th>Beverage_prep</th>\n",
       "      <th>Calories</th>\n",
       "      <th>Total Fat (g)</th>\n",
       "      <th>Trans Fat (g)</th>\n",
       "      <th>Saturated Fat (g)</th>\n",
       "      <th>Sodium (mg)</th>\n",
       "      <th>Total Carbohydrates (g)</th>\n",
       "      <th>Cholesterol (mg)</th>\n",
       "      <th>Dietary Fibre (g)</th>\n",
       "      <th>Sugars (g)</th>\n",
       "      <th>Protein (g)</th>\n",
       "      <th>Vitamin A (% DV)</th>\n",
       "      <th>Vitamin C (% DV)</th>\n",
       "      <th>Calcium (% DV)</th>\n",
       "      <th>Iron (% DV)</th>\n",
       "      <th>Caffeine_mg</th>\n",
       "    </tr>\n",
       "    <tr>\n",
       "      <th>Beverage</th>\n",
       "      <th></th>\n",
       "      <th></th>\n",
       "      <th></th>\n",
       "      <th></th>\n",
       "      <th></th>\n",
       "      <th></th>\n",
       "      <th></th>\n",
       "      <th></th>\n",
       "      <th></th>\n",
       "      <th></th>\n",
       "      <th></th>\n",
       "      <th></th>\n",
       "      <th></th>\n",
       "      <th></th>\n",
       "      <th></th>\n",
       "      <th></th>\n",
       "      <th></th>\n",
       "    </tr>\n",
       "  </thead>\n",
       "  <tbody>\n",
       "    <tr>\n",
       "      <th>Brewed Coffee</th>\n",
       "      <td>Coffee</td>\n",
       "      <td>Short</td>\n",
       "      <td>3</td>\n",
       "      <td>0.1</td>\n",
       "      <td>0.0</td>\n",
       "      <td>0.0</td>\n",
       "      <td>0</td>\n",
       "      <td>5</td>\n",
       "      <td>0</td>\n",
       "      <td>0</td>\n",
       "      <td>0</td>\n",
       "      <td>0.3</td>\n",
       "      <td>0%</td>\n",
       "      <td>0%</td>\n",
       "      <td>0%</td>\n",
       "      <td>0%</td>\n",
       "      <td>175</td>\n",
       "    </tr>\n",
       "    <tr>\n",
       "      <th>Brewed Coffee</th>\n",
       "      <td>Coffee</td>\n",
       "      <td>Tall</td>\n",
       "      <td>4</td>\n",
       "      <td>0.1</td>\n",
       "      <td>0.0</td>\n",
       "      <td>0.0</td>\n",
       "      <td>0</td>\n",
       "      <td>10</td>\n",
       "      <td>0</td>\n",
       "      <td>0</td>\n",
       "      <td>0</td>\n",
       "      <td>0.5</td>\n",
       "      <td>0%</td>\n",
       "      <td>0%</td>\n",
       "      <td>0%</td>\n",
       "      <td>0%</td>\n",
       "      <td>260</td>\n",
       "    </tr>\n",
       "    <tr>\n",
       "      <th>Brewed Coffee</th>\n",
       "      <td>Coffee</td>\n",
       "      <td>Grande</td>\n",
       "      <td>5</td>\n",
       "      <td>0.1</td>\n",
       "      <td>0.0</td>\n",
       "      <td>0.0</td>\n",
       "      <td>0</td>\n",
       "      <td>10</td>\n",
       "      <td>0</td>\n",
       "      <td>0</td>\n",
       "      <td>0</td>\n",
       "      <td>1.0</td>\n",
       "      <td>0%</td>\n",
       "      <td>0%</td>\n",
       "      <td>0%</td>\n",
       "      <td>0%</td>\n",
       "      <td>330</td>\n",
       "    </tr>\n",
       "    <tr>\n",
       "      <th>Brewed Coffee</th>\n",
       "      <td>Coffee</td>\n",
       "      <td>Venti</td>\n",
       "      <td>5</td>\n",
       "      <td>0.1</td>\n",
       "      <td>0.0</td>\n",
       "      <td>0.0</td>\n",
       "      <td>0</td>\n",
       "      <td>10</td>\n",
       "      <td>0</td>\n",
       "      <td>0</td>\n",
       "      <td>0</td>\n",
       "      <td>1.0</td>\n",
       "      <td>0%</td>\n",
       "      <td>0%</td>\n",
       "      <td>2%</td>\n",
       "      <td>0%</td>\n",
       "      <td>410</td>\n",
       "    </tr>\n",
       "    <tr>\n",
       "      <th>Caffè Latte</th>\n",
       "      <td>Classic Espresso Drinks</td>\n",
       "      <td>Short Nonfat Milk</td>\n",
       "      <td>70</td>\n",
       "      <td>0.1</td>\n",
       "      <td>0.1</td>\n",
       "      <td>0.0</td>\n",
       "      <td>5</td>\n",
       "      <td>75</td>\n",
       "      <td>10</td>\n",
       "      <td>0</td>\n",
       "      <td>9</td>\n",
       "      <td>6.0</td>\n",
       "      <td>10%</td>\n",
       "      <td>0%</td>\n",
       "      <td>20%</td>\n",
       "      <td>0%</td>\n",
       "      <td>75</td>\n",
       "    </tr>\n",
       "  </tbody>\n",
       "</table>\n",
       "</div>"
      ],
      "text/plain": [
       "                     Beverage_category      Beverage_prep  Calories  \\\n",
       "Beverage                                                              \n",
       "Brewed Coffee                   Coffee              Short         3   \n",
       "Brewed Coffee                   Coffee               Tall         4   \n",
       "Brewed Coffee                   Coffee             Grande         5   \n",
       "Brewed Coffee                   Coffee              Venti         5   \n",
       "Caffè Latte    Classic Espresso Drinks  Short Nonfat Milk        70   \n",
       "\n",
       "               Total Fat (g)  Trans Fat (g)   Saturated Fat (g)   Sodium (mg)  \\\n",
       "Beverage                                                                        \n",
       "Brewed Coffee            0.1             0.0                0.0             0   \n",
       "Brewed Coffee            0.1             0.0                0.0             0   \n",
       "Brewed Coffee            0.1             0.0                0.0             0   \n",
       "Brewed Coffee            0.1             0.0                0.0             0   \n",
       "Caffè Latte              0.1             0.1                0.0             5   \n",
       "\n",
       "                Total Carbohydrates (g)   Cholesterol (mg)  \\\n",
       "Beverage                                                     \n",
       "Brewed Coffee                          5                 0   \n",
       "Brewed Coffee                         10                 0   \n",
       "Brewed Coffee                         10                 0   \n",
       "Brewed Coffee                         10                 0   \n",
       "Caffè Latte                           75                10   \n",
       "\n",
       "                Dietary Fibre (g)   Sugars (g)   Protein (g)   \\\n",
       "Beverage                                                        \n",
       "Brewed Coffee                   0            0            0.3   \n",
       "Brewed Coffee                   0            0            0.5   \n",
       "Brewed Coffee                   0            0            1.0   \n",
       "Brewed Coffee                   0            0            1.0   \n",
       "Caffè Latte                     0            9            6.0   \n",
       "\n",
       "              Vitamin A (% DV)  Vitamin C (% DV)  Calcium (% DV)   \\\n",
       "Beverage                                                            \n",
       "Brewed Coffee                0%               0%               0%   \n",
       "Brewed Coffee                0%               0%               0%   \n",
       "Brewed Coffee                0%               0%               0%   \n",
       "Brewed Coffee                0%               0%               2%   \n",
       "Caffè Latte                 10%               0%              20%   \n",
       "\n",
       "              Iron (% DV)  Caffeine_mg  \n",
       "Beverage                                \n",
       "Brewed Coffee           0%         175  \n",
       "Brewed Coffee           0%         260  \n",
       "Brewed Coffee           0%         330  \n",
       "Brewed Coffee           0%         410  \n",
       "Caffè Latte             0%          75  "
      ]
     },
     "execution_count": 11,
     "metadata": {},
     "output_type": "execute_result"
    }
   ],
   "source": [
    "#renaming Caffeine to make it easier to use later\n",
    "df= df.rename(columns={\"Caffeine (mg)\": \"Caffeine_mg\"})\n",
    "df.head()"
   ]
  },
  {
   "cell_type": "code",
   "execution_count": 12,
   "metadata": {},
   "outputs": [
    {
     "data": {
      "text/html": [
       "<div>\n",
       "<style scoped>\n",
       "    .dataframe tbody tr th:only-of-type {\n",
       "        vertical-align: middle;\n",
       "    }\n",
       "\n",
       "    .dataframe tbody tr th {\n",
       "        vertical-align: top;\n",
       "    }\n",
       "\n",
       "    .dataframe thead th {\n",
       "        text-align: right;\n",
       "    }\n",
       "</style>\n",
       "<table border=\"1\" class=\"dataframe\">\n",
       "  <thead>\n",
       "    <tr style=\"text-align: right;\">\n",
       "      <th></th>\n",
       "      <th>Beverage</th>\n",
       "      <th>Beverage_category</th>\n",
       "      <th>Beverage_prep</th>\n",
       "      <th>Calories</th>\n",
       "      <th>Total Fat (g)</th>\n",
       "      <th>Trans Fat (g)</th>\n",
       "      <th>Saturated Fat (g)</th>\n",
       "      <th>Sodium (mg)</th>\n",
       "      <th>Total Carbohydrates (g)</th>\n",
       "      <th>Cholesterol (mg)</th>\n",
       "      <th>Dietary Fibre (g)</th>\n",
       "      <th>Sugars (g)</th>\n",
       "      <th>Protein (g)</th>\n",
       "      <th>Vitamin A (% DV)</th>\n",
       "      <th>Vitamin C (% DV)</th>\n",
       "      <th>Calcium (% DV)</th>\n",
       "      <th>Iron (% DV)</th>\n",
       "      <th>Caffeine_mg</th>\n",
       "    </tr>\n",
       "  </thead>\n",
       "  <tbody>\n",
       "    <tr>\n",
       "      <th>0</th>\n",
       "      <td>Brewed Coffee</td>\n",
       "      <td>Coffee</td>\n",
       "      <td>Short</td>\n",
       "      <td>3</td>\n",
       "      <td>0.1</td>\n",
       "      <td>0.0</td>\n",
       "      <td>0.0</td>\n",
       "      <td>0</td>\n",
       "      <td>5</td>\n",
       "      <td>0</td>\n",
       "      <td>0</td>\n",
       "      <td>0</td>\n",
       "      <td>0.3</td>\n",
       "      <td>0%</td>\n",
       "      <td>0%</td>\n",
       "      <td>0%</td>\n",
       "      <td>0%</td>\n",
       "      <td>175</td>\n",
       "    </tr>\n",
       "    <tr>\n",
       "      <th>1</th>\n",
       "      <td>Brewed Coffee</td>\n",
       "      <td>Coffee</td>\n",
       "      <td>Tall</td>\n",
       "      <td>4</td>\n",
       "      <td>0.1</td>\n",
       "      <td>0.0</td>\n",
       "      <td>0.0</td>\n",
       "      <td>0</td>\n",
       "      <td>10</td>\n",
       "      <td>0</td>\n",
       "      <td>0</td>\n",
       "      <td>0</td>\n",
       "      <td>0.5</td>\n",
       "      <td>0%</td>\n",
       "      <td>0%</td>\n",
       "      <td>0%</td>\n",
       "      <td>0%</td>\n",
       "      <td>260</td>\n",
       "    </tr>\n",
       "    <tr>\n",
       "      <th>2</th>\n",
       "      <td>Brewed Coffee</td>\n",
       "      <td>Coffee</td>\n",
       "      <td>Grande</td>\n",
       "      <td>5</td>\n",
       "      <td>0.1</td>\n",
       "      <td>0.0</td>\n",
       "      <td>0.0</td>\n",
       "      <td>0</td>\n",
       "      <td>10</td>\n",
       "      <td>0</td>\n",
       "      <td>0</td>\n",
       "      <td>0</td>\n",
       "      <td>1.0</td>\n",
       "      <td>0%</td>\n",
       "      <td>0%</td>\n",
       "      <td>0%</td>\n",
       "      <td>0%</td>\n",
       "      <td>330</td>\n",
       "    </tr>\n",
       "    <tr>\n",
       "      <th>3</th>\n",
       "      <td>Brewed Coffee</td>\n",
       "      <td>Coffee</td>\n",
       "      <td>Venti</td>\n",
       "      <td>5</td>\n",
       "      <td>0.1</td>\n",
       "      <td>0.0</td>\n",
       "      <td>0.0</td>\n",
       "      <td>0</td>\n",
       "      <td>10</td>\n",
       "      <td>0</td>\n",
       "      <td>0</td>\n",
       "      <td>0</td>\n",
       "      <td>1.0</td>\n",
       "      <td>0%</td>\n",
       "      <td>0%</td>\n",
       "      <td>2%</td>\n",
       "      <td>0%</td>\n",
       "      <td>410</td>\n",
       "    </tr>\n",
       "    <tr>\n",
       "      <th>4</th>\n",
       "      <td>Caffè Latte</td>\n",
       "      <td>Classic Espresso Drinks</td>\n",
       "      <td>Short Nonfat Milk</td>\n",
       "      <td>70</td>\n",
       "      <td>0.1</td>\n",
       "      <td>0.1</td>\n",
       "      <td>0.0</td>\n",
       "      <td>5</td>\n",
       "      <td>75</td>\n",
       "      <td>10</td>\n",
       "      <td>0</td>\n",
       "      <td>9</td>\n",
       "      <td>6.0</td>\n",
       "      <td>10%</td>\n",
       "      <td>0%</td>\n",
       "      <td>20%</td>\n",
       "      <td>0%</td>\n",
       "      <td>75</td>\n",
       "    </tr>\n",
       "  </tbody>\n",
       "</table>\n",
       "</div>"
      ],
      "text/plain": [
       "        Beverage        Beverage_category      Beverage_prep  Calories  \\\n",
       "0  Brewed Coffee                   Coffee              Short         3   \n",
       "1  Brewed Coffee                   Coffee               Tall         4   \n",
       "2  Brewed Coffee                   Coffee             Grande         5   \n",
       "3  Brewed Coffee                   Coffee              Venti         5   \n",
       "4    Caffè Latte  Classic Espresso Drinks  Short Nonfat Milk        70   \n",
       "\n",
       "   Total Fat (g)  Trans Fat (g)   Saturated Fat (g)   Sodium (mg)  \\\n",
       "0            0.1             0.0                0.0             0   \n",
       "1            0.1             0.0                0.0             0   \n",
       "2            0.1             0.0                0.0             0   \n",
       "3            0.1             0.0                0.0             0   \n",
       "4            0.1             0.1                0.0             5   \n",
       "\n",
       "    Total Carbohydrates (g)   Cholesterol (mg)   Dietary Fibre (g)  \\\n",
       "0                          5                 0                   0   \n",
       "1                         10                 0                   0   \n",
       "2                         10                 0                   0   \n",
       "3                         10                 0                   0   \n",
       "4                         75                10                   0   \n",
       "\n",
       "    Sugars (g)   Protein (g)  Vitamin A (% DV)  Vitamin C (% DV)  \\\n",
       "0            0            0.3                0%               0%   \n",
       "1            0            0.5                0%               0%   \n",
       "2            0            1.0                0%               0%   \n",
       "3            0            1.0                0%               0%   \n",
       "4            9            6.0               10%               0%   \n",
       "\n",
       "   Calcium (% DV)  Iron (% DV)  Caffeine_mg  \n",
       "0               0%           0%         175  \n",
       "1               0%           0%         260  \n",
       "2               0%           0%         330  \n",
       "3               2%           0%         410  \n",
       "4              20%           0%          75  "
      ]
     },
     "execution_count": 12,
     "metadata": {},
     "output_type": "execute_result"
    }
   ],
   "source": [
    "#reset index \n",
    "df.reset_index(inplace = True)\n",
    "df.head()\n",
    "#(notes for me later: reset back by making axis =1)"
   ]
  },
  {
   "cell_type": "code",
   "execution_count": 13,
   "metadata": {},
   "outputs": [
    {
     "name": "stdout",
     "output_type": "stream",
     "text": [
      "<class 'pandas.core.frame.DataFrame'>\n"
     ]
    }
   ],
   "source": [
    "print(type(df))"
   ]
  },
  {
   "cell_type": "code",
   "execution_count": 14,
   "metadata": {},
   "outputs": [],
   "source": [
    "#Drop columns because I want my app to focus on calories, total fat, total carbs, sugar, and caffeine\n",
    "df= df.drop(['Trans Fat (g) '], axis=1)\n",
    "df= df.drop(['Saturated Fat (g)'], axis=1)\n",
    "df= df.drop([' Sodium (mg)'], axis=1)\n",
    "df= df.drop(['Cholesterol (mg)'], axis=1)\n",
    "df= df.drop([' Dietary Fibre (g)'], axis=1)\n",
    "df= df.drop(['Vitamin A (% DV) '], axis=1)\n",
    "df= df.drop(['Vitamin C (% DV)'], axis=1)\n",
    "df= df.drop(['Iron (% DV) '], axis=1)\n",
    "df= df.drop([' Calcium (% DV) '], axis=1)\n",
    "df= df.drop([' Total Carbohydrates (g) '], axis=1)\n",
    "\n"
   ]
  },
  {
   "cell_type": "code",
   "execution_count": 15,
   "metadata": {},
   "outputs": [
    {
     "data": {
      "text/html": [
       "<div>\n",
       "<style scoped>\n",
       "    .dataframe tbody tr th:only-of-type {\n",
       "        vertical-align: middle;\n",
       "    }\n",
       "\n",
       "    .dataframe tbody tr th {\n",
       "        vertical-align: top;\n",
       "    }\n",
       "\n",
       "    .dataframe thead th {\n",
       "        text-align: right;\n",
       "    }\n",
       "</style>\n",
       "<table border=\"1\" class=\"dataframe\">\n",
       "  <thead>\n",
       "    <tr style=\"text-align: right;\">\n",
       "      <th></th>\n",
       "      <th>Beverage</th>\n",
       "      <th>Beverage_category</th>\n",
       "      <th>Beverage_prep</th>\n",
       "      <th>Calories</th>\n",
       "      <th>Total Fat (g)</th>\n",
       "      <th>Sugars (g)</th>\n",
       "      <th>Protein (g)</th>\n",
       "      <th>Caffeine_mg</th>\n",
       "    </tr>\n",
       "  </thead>\n",
       "  <tbody>\n",
       "    <tr>\n",
       "      <th>0</th>\n",
       "      <td>Brewed Coffee</td>\n",
       "      <td>Coffee</td>\n",
       "      <td>Short</td>\n",
       "      <td>3</td>\n",
       "      <td>0.1</td>\n",
       "      <td>0</td>\n",
       "      <td>0.3</td>\n",
       "      <td>175</td>\n",
       "    </tr>\n",
       "    <tr>\n",
       "      <th>1</th>\n",
       "      <td>Brewed Coffee</td>\n",
       "      <td>Coffee</td>\n",
       "      <td>Tall</td>\n",
       "      <td>4</td>\n",
       "      <td>0.1</td>\n",
       "      <td>0</td>\n",
       "      <td>0.5</td>\n",
       "      <td>260</td>\n",
       "    </tr>\n",
       "    <tr>\n",
       "      <th>2</th>\n",
       "      <td>Brewed Coffee</td>\n",
       "      <td>Coffee</td>\n",
       "      <td>Grande</td>\n",
       "      <td>5</td>\n",
       "      <td>0.1</td>\n",
       "      <td>0</td>\n",
       "      <td>1.0</td>\n",
       "      <td>330</td>\n",
       "    </tr>\n",
       "    <tr>\n",
       "      <th>3</th>\n",
       "      <td>Brewed Coffee</td>\n",
       "      <td>Coffee</td>\n",
       "      <td>Venti</td>\n",
       "      <td>5</td>\n",
       "      <td>0.1</td>\n",
       "      <td>0</td>\n",
       "      <td>1.0</td>\n",
       "      <td>410</td>\n",
       "    </tr>\n",
       "    <tr>\n",
       "      <th>4</th>\n",
       "      <td>Caffè Latte</td>\n",
       "      <td>Classic Espresso Drinks</td>\n",
       "      <td>Short Nonfat Milk</td>\n",
       "      <td>70</td>\n",
       "      <td>0.1</td>\n",
       "      <td>9</td>\n",
       "      <td>6.0</td>\n",
       "      <td>75</td>\n",
       "    </tr>\n",
       "    <tr>\n",
       "      <th>...</th>\n",
       "      <td>...</td>\n",
       "      <td>...</td>\n",
       "      <td>...</td>\n",
       "      <td>...</td>\n",
       "      <td>...</td>\n",
       "      <td>...</td>\n",
       "      <td>...</td>\n",
       "      <td>...</td>\n",
       "    </tr>\n",
       "    <tr>\n",
       "      <th>236</th>\n",
       "      <td>Strawberries &amp; Crème</td>\n",
       "      <td>Frappuccino® Blended Crème</td>\n",
       "      <td>Soymilk</td>\n",
       "      <td>320</td>\n",
       "      <td>3 2</td>\n",
       "      <td>64</td>\n",
       "      <td>5.0</td>\n",
       "      <td>0</td>\n",
       "    </tr>\n",
       "    <tr>\n",
       "      <th>237</th>\n",
       "      <td>Vanilla Bean</td>\n",
       "      <td>Frappuccino® Blended Crème</td>\n",
       "      <td>Tall Nonfat Milk</td>\n",
       "      <td>170</td>\n",
       "      <td>0.1</td>\n",
       "      <td>38</td>\n",
       "      <td>4.0</td>\n",
       "      <td>0</td>\n",
       "    </tr>\n",
       "    <tr>\n",
       "      <th>238</th>\n",
       "      <td>Vanilla Bean</td>\n",
       "      <td>Frappuccino® Blended Crème</td>\n",
       "      <td>Whole Milk</td>\n",
       "      <td>200</td>\n",
       "      <td>3.5</td>\n",
       "      <td>38</td>\n",
       "      <td>3.0</td>\n",
       "      <td>0</td>\n",
       "    </tr>\n",
       "    <tr>\n",
       "      <th>239</th>\n",
       "      <td>Vanilla Bean</td>\n",
       "      <td>Frappuccino® Blended Crème</td>\n",
       "      <td>Soymilk</td>\n",
       "      <td>180</td>\n",
       "      <td>1.5</td>\n",
       "      <td>35</td>\n",
       "      <td>3.0</td>\n",
       "      <td>0</td>\n",
       "    </tr>\n",
       "    <tr>\n",
       "      <th>240</th>\n",
       "      <td>Vanilla Bean</td>\n",
       "      <td>Frappuccino® Blended Crème</td>\n",
       "      <td>Grande Nonfat Milk</td>\n",
       "      <td>240</td>\n",
       "      <td>0.1</td>\n",
       "      <td>55</td>\n",
       "      <td>5.0</td>\n",
       "      <td>0</td>\n",
       "    </tr>\n",
       "  </tbody>\n",
       "</table>\n",
       "<p>241 rows × 8 columns</p>\n",
       "</div>"
      ],
      "text/plain": [
       "                 Beverage           Beverage_category       Beverage_prep  \\\n",
       "0           Brewed Coffee                      Coffee               Short   \n",
       "1           Brewed Coffee                      Coffee                Tall   \n",
       "2           Brewed Coffee                      Coffee              Grande   \n",
       "3           Brewed Coffee                      Coffee               Venti   \n",
       "4             Caffè Latte     Classic Espresso Drinks   Short Nonfat Milk   \n",
       "..                    ...                         ...                 ...   \n",
       "236  Strawberries & Crème  Frappuccino® Blended Crème             Soymilk   \n",
       "237          Vanilla Bean  Frappuccino® Blended Crème    Tall Nonfat Milk   \n",
       "238          Vanilla Bean  Frappuccino® Blended Crème          Whole Milk   \n",
       "239          Vanilla Bean  Frappuccino® Blended Crème             Soymilk   \n",
       "240          Vanilla Bean  Frappuccino® Blended Crème  Grande Nonfat Milk   \n",
       "\n",
       "     Calories  Total Fat (g)   Sugars (g)   Protein (g)  Caffeine_mg  \n",
       "0           3            0.1            0            0.3         175  \n",
       "1           4            0.1            0            0.5         260  \n",
       "2           5            0.1            0            1.0         330  \n",
       "3           5            0.1            0            1.0         410  \n",
       "4          70            0.1            9            6.0          75  \n",
       "..        ...            ...          ...            ...         ...  \n",
       "236       320            3 2           64            5.0           0  \n",
       "237       170            0.1           38            4.0           0  \n",
       "238       200            3.5           38            3.0           0  \n",
       "239       180            1.5           35            3.0           0  \n",
       "240       240            0.1           55            5.0           0  \n",
       "\n",
       "[241 rows x 8 columns]"
      ]
     },
     "execution_count": 15,
     "metadata": {},
     "output_type": "execute_result"
    }
   ],
   "source": [
    "df"
   ]
  },
  {
   "cell_type": "code",
   "execution_count": 16,
   "metadata": {},
   "outputs": [],
   "source": [
    "#Rename columns so they are easier to use later and getting rid of random spaces\n",
    "df = df.rename(columns={' Total Fat (g)': 'Total_Fat_g'})\n",
    "df = df.rename(columns={' Total Carbohydrates (g) ': 'Total_Carb_g'})\n",
    "df = df.rename(columns={' Sugars (g)': 'Sugars_g'})\n",
    "df = df.rename(columns={' Protein (g) ': 'Protein_g'})\n",
    "\n",
    "\n"
   ]
  },
  {
   "cell_type": "code",
   "execution_count": 17,
   "metadata": {},
   "outputs": [
    {
     "data": {
      "text/html": [
       "<div>\n",
       "<style scoped>\n",
       "    .dataframe tbody tr th:only-of-type {\n",
       "        vertical-align: middle;\n",
       "    }\n",
       "\n",
       "    .dataframe tbody tr th {\n",
       "        vertical-align: top;\n",
       "    }\n",
       "\n",
       "    .dataframe thead th {\n",
       "        text-align: right;\n",
       "    }\n",
       "</style>\n",
       "<table border=\"1\" class=\"dataframe\">\n",
       "  <thead>\n",
       "    <tr style=\"text-align: right;\">\n",
       "      <th></th>\n",
       "      <th>Beverage</th>\n",
       "      <th>Beverage_category</th>\n",
       "      <th>Beverage_prep</th>\n",
       "      <th>Calories</th>\n",
       "      <th>Total_Fat_g</th>\n",
       "      <th>Sugars_g</th>\n",
       "      <th>Protein_g</th>\n",
       "      <th>Caffeine_mg</th>\n",
       "    </tr>\n",
       "  </thead>\n",
       "  <tbody>\n",
       "    <tr>\n",
       "      <th>0</th>\n",
       "      <td>Brewed Coffee</td>\n",
       "      <td>Coffee</td>\n",
       "      <td>Short</td>\n",
       "      <td>3</td>\n",
       "      <td>0.1</td>\n",
       "      <td>0</td>\n",
       "      <td>0.3</td>\n",
       "      <td>175</td>\n",
       "    </tr>\n",
       "    <tr>\n",
       "      <th>1</th>\n",
       "      <td>Brewed Coffee</td>\n",
       "      <td>Coffee</td>\n",
       "      <td>Tall</td>\n",
       "      <td>4</td>\n",
       "      <td>0.1</td>\n",
       "      <td>0</td>\n",
       "      <td>0.5</td>\n",
       "      <td>260</td>\n",
       "    </tr>\n",
       "    <tr>\n",
       "      <th>2</th>\n",
       "      <td>Brewed Coffee</td>\n",
       "      <td>Coffee</td>\n",
       "      <td>Grande</td>\n",
       "      <td>5</td>\n",
       "      <td>0.1</td>\n",
       "      <td>0</td>\n",
       "      <td>1.0</td>\n",
       "      <td>330</td>\n",
       "    </tr>\n",
       "    <tr>\n",
       "      <th>3</th>\n",
       "      <td>Brewed Coffee</td>\n",
       "      <td>Coffee</td>\n",
       "      <td>Venti</td>\n",
       "      <td>5</td>\n",
       "      <td>0.1</td>\n",
       "      <td>0</td>\n",
       "      <td>1.0</td>\n",
       "      <td>410</td>\n",
       "    </tr>\n",
       "    <tr>\n",
       "      <th>4</th>\n",
       "      <td>Caffè Latte</td>\n",
       "      <td>Classic Espresso Drinks</td>\n",
       "      <td>Short Nonfat Milk</td>\n",
       "      <td>70</td>\n",
       "      <td>0.1</td>\n",
       "      <td>9</td>\n",
       "      <td>6.0</td>\n",
       "      <td>75</td>\n",
       "    </tr>\n",
       "  </tbody>\n",
       "</table>\n",
       "</div>"
      ],
      "text/plain": [
       "        Beverage        Beverage_category      Beverage_prep  Calories  \\\n",
       "0  Brewed Coffee                   Coffee              Short         3   \n",
       "1  Brewed Coffee                   Coffee               Tall         4   \n",
       "2  Brewed Coffee                   Coffee             Grande         5   \n",
       "3  Brewed Coffee                   Coffee              Venti         5   \n",
       "4    Caffè Latte  Classic Espresso Drinks  Short Nonfat Milk        70   \n",
       "\n",
       "  Total_Fat_g  Sugars_g  Protein_g Caffeine_mg  \n",
       "0         0.1         0        0.3         175  \n",
       "1         0.1         0        0.5         260  \n",
       "2         0.1         0        1.0         330  \n",
       "3         0.1         0        1.0         410  \n",
       "4         0.1         9        6.0          75  "
      ]
     },
     "execution_count": 17,
     "metadata": {},
     "output_type": "execute_result"
    }
   ],
   "source": [
    "df.head()"
   ]
  },
  {
   "cell_type": "markdown",
   "metadata": {},
   "source": [
    "Yay! The columns have been dropped that I don't plan on using and the names have been changed so I can use them easily in the future"
   ]
  },
  {
   "cell_type": "markdown",
   "metadata": {},
   "source": [
    "Analyze the non-numerical data"
   ]
  },
  {
   "cell_type": "code",
   "execution_count": 40,
   "metadata": {},
   "outputs": [
    {
     "data": {
      "text/plain": [
       "array(['Brewed Coffee', 'Caffè Latte', 'Caffè Mocha', 'Flavored Latte',\n",
       "       'Caffè Americano', 'Cappuccino', 'Espresso',\n",
       "       'Skinny Latte (Any Flavour)', 'Caramel Macchiato',\n",
       "       'White Chocolate Mocha', 'Hot Chocolate', 'Caramel Apple Spice',\n",
       "       'Tazo® Chai Tea Latte', 'Tazo® Green Tea Latte',\n",
       "       'Tazo® Full-Leaf Red Tea Latte (Vanilla Rooibos)',\n",
       "       'Iced Brewed Coffee (With Classic Syrup)',\n",
       "       'Iced Brewed Coffee (With Milk & Classic Syrup)',\n",
       "       'Shaken Iced Tazo® Tea (With Classic Syrup)',\n",
       "       'Banana Chocolate Smoothie', 'Orange Mango Banana Smoothie',\n",
       "       'Strawberry Banana Smoothie', 'Coffee', 'Mocha', 'Caramel',\n",
       "       'Java Chip', 'Strawberries & Crème', 'Vanilla Bean'], dtype=object)"
      ]
     },
     "execution_count": 40,
     "metadata": {},
     "output_type": "execute_result"
    }
   ],
   "source": [
    "pd.unique(df.Beverage)"
   ]
  },
  {
   "cell_type": "code",
   "execution_count": 41,
   "metadata": {},
   "outputs": [
    {
     "data": {
      "text/plain": [
       "array(['Coffee', 'Classic Espresso Drinks', 'Signature Espresso Drinks',\n",
       "       'Tazo® Tea Drinks', 'Shaken Iced Beverages', 'Smoothies',\n",
       "       'Frappuccino® Blended Coffee', 'Frappuccino® Light Blended Coffee',\n",
       "       'Frappuccino® Blended Crème'], dtype=object)"
      ]
     },
     "execution_count": 41,
     "metadata": {},
     "output_type": "execute_result"
    }
   ],
   "source": [
    "pd.unique(df.Beverage_category)"
   ]
  },
  {
   "cell_type": "code",
   "execution_count": 42,
   "metadata": {},
   "outputs": [
    {
     "data": {
      "text/plain": [
       "array(['Short', 'Tall', 'Grande', 'Venti', 'Short Nonfat Milk', '2% Milk',\n",
       "       'Soymilk', 'Tall Nonfat Milk', 'Grande Nonfat Milk',\n",
       "       'Venti Nonfat Milk', 'Solo', 'Doppio', 'Whole Milk'], dtype=object)"
      ]
     },
     "execution_count": 42,
     "metadata": {},
     "output_type": "execute_result"
    }
   ],
   "source": [
    "pd.unique(df.Beverage_prep)"
   ]
  },
  {
   "cell_type": "markdown",
   "metadata": {},
   "source": [
    "Fixing the Caffeine variable below"
   ]
  },
  {
   "cell_type": "code",
   "execution_count": 18,
   "metadata": {},
   "outputs": [],
   "source": [
    "#Making the \"Varies\" value in the Caffeine column a null value so I'm working with numerical data\n",
    "df = df.replace({'Caffeine_mg': {'Varies': np.nan, 'varies': np.nan}})\n"
   ]
  },
  {
   "cell_type": "code",
   "execution_count": 19,
   "metadata": {},
   "outputs": [
    {
     "name": "stdout",
     "output_type": "stream",
     "text": [
      "<bound method DataFrame.isnull of                  Beverage           Beverage_category       Beverage_prep  \\\n",
      "0           Brewed Coffee                      Coffee               Short   \n",
      "1           Brewed Coffee                      Coffee                Tall   \n",
      "2           Brewed Coffee                      Coffee              Grande   \n",
      "3           Brewed Coffee                      Coffee               Venti   \n",
      "4             Caffè Latte     Classic Espresso Drinks   Short Nonfat Milk   \n",
      "..                    ...                         ...                 ...   \n",
      "236  Strawberries & Crème  Frappuccino® Blended Crème             Soymilk   \n",
      "237          Vanilla Bean  Frappuccino® Blended Crème    Tall Nonfat Milk   \n",
      "238          Vanilla Bean  Frappuccino® Blended Crème          Whole Milk   \n",
      "239          Vanilla Bean  Frappuccino® Blended Crème             Soymilk   \n",
      "240          Vanilla Bean  Frappuccino® Blended Crème  Grande Nonfat Milk   \n",
      "\n",
      "     Calories Total_Fat_g  Sugars_g  Protein_g Caffeine_mg  \n",
      "0           3         0.1         0        0.3         175  \n",
      "1           4         0.1         0        0.5         260  \n",
      "2           5         0.1         0        1.0         330  \n",
      "3           5         0.1         0        1.0         410  \n",
      "4          70         0.1         9        6.0          75  \n",
      "..        ...         ...       ...        ...         ...  \n",
      "236       320         3 2        64        5.0           0  \n",
      "237       170         0.1        38        4.0           0  \n",
      "238       200         3.5        38        3.0           0  \n",
      "239       180         1.5        35        3.0           0  \n",
      "240       240         0.1        55        5.0           0  \n",
      "\n",
      "[219 rows x 8 columns]>\n"
     ]
    }
   ],
   "source": [
    "#Dropping null values\n",
    "df.dropna(inplace=True)\n",
    "print(df.isnull)"
   ]
  },
  {
   "cell_type": "code",
   "execution_count": 20,
   "metadata": {},
   "outputs": [
    {
     "data": {
      "text/html": [
       "<div>\n",
       "<style scoped>\n",
       "    .dataframe tbody tr th:only-of-type {\n",
       "        vertical-align: middle;\n",
       "    }\n",
       "\n",
       "    .dataframe tbody tr th {\n",
       "        vertical-align: top;\n",
       "    }\n",
       "\n",
       "    .dataframe thead th {\n",
       "        text-align: right;\n",
       "    }\n",
       "</style>\n",
       "<table border=\"1\" class=\"dataframe\">\n",
       "  <thead>\n",
       "    <tr style=\"text-align: right;\">\n",
       "      <th></th>\n",
       "      <th>Beverage</th>\n",
       "      <th>Beverage_category</th>\n",
       "      <th>Beverage_prep</th>\n",
       "      <th>Calories</th>\n",
       "      <th>Total_Fat_g</th>\n",
       "      <th>Sugars_g</th>\n",
       "      <th>Protein_g</th>\n",
       "      <th>Caffeine_mg</th>\n",
       "    </tr>\n",
       "  </thead>\n",
       "  <tbody>\n",
       "    <tr>\n",
       "      <th>0</th>\n",
       "      <td>Brewed Coffee</td>\n",
       "      <td>Coffee</td>\n",
       "      <td>Short</td>\n",
       "      <td>3</td>\n",
       "      <td>0.1</td>\n",
       "      <td>0</td>\n",
       "      <td>0.3</td>\n",
       "      <td>175</td>\n",
       "    </tr>\n",
       "    <tr>\n",
       "      <th>1</th>\n",
       "      <td>Brewed Coffee</td>\n",
       "      <td>Coffee</td>\n",
       "      <td>Tall</td>\n",
       "      <td>4</td>\n",
       "      <td>0.1</td>\n",
       "      <td>0</td>\n",
       "      <td>0.5</td>\n",
       "      <td>260</td>\n",
       "    </tr>\n",
       "    <tr>\n",
       "      <th>2</th>\n",
       "      <td>Brewed Coffee</td>\n",
       "      <td>Coffee</td>\n",
       "      <td>Grande</td>\n",
       "      <td>5</td>\n",
       "      <td>0.1</td>\n",
       "      <td>0</td>\n",
       "      <td>1.0</td>\n",
       "      <td>330</td>\n",
       "    </tr>\n",
       "    <tr>\n",
       "      <th>3</th>\n",
       "      <td>Brewed Coffee</td>\n",
       "      <td>Coffee</td>\n",
       "      <td>Venti</td>\n",
       "      <td>5</td>\n",
       "      <td>0.1</td>\n",
       "      <td>0</td>\n",
       "      <td>1.0</td>\n",
       "      <td>410</td>\n",
       "    </tr>\n",
       "    <tr>\n",
       "      <th>4</th>\n",
       "      <td>Caffè Latte</td>\n",
       "      <td>Classic Espresso Drinks</td>\n",
       "      <td>Short Nonfat Milk</td>\n",
       "      <td>70</td>\n",
       "      <td>0.1</td>\n",
       "      <td>9</td>\n",
       "      <td>6.0</td>\n",
       "      <td>75</td>\n",
       "    </tr>\n",
       "  </tbody>\n",
       "</table>\n",
       "</div>"
      ],
      "text/plain": [
       "        Beverage        Beverage_category      Beverage_prep  Calories  \\\n",
       "0  Brewed Coffee                   Coffee              Short         3   \n",
       "1  Brewed Coffee                   Coffee               Tall         4   \n",
       "2  Brewed Coffee                   Coffee             Grande         5   \n",
       "3  Brewed Coffee                   Coffee              Venti         5   \n",
       "4    Caffè Latte  Classic Espresso Drinks  Short Nonfat Milk        70   \n",
       "\n",
       "  Total_Fat_g  Sugars_g  Protein_g Caffeine_mg  \n",
       "0         0.1         0        0.3         175  \n",
       "1         0.1         0        0.5         260  \n",
       "2         0.1         0        1.0         330  \n",
       "3         0.1         0        1.0         410  \n",
       "4         0.1         9        6.0          75  "
      ]
     },
     "execution_count": 20,
     "metadata": {},
     "output_type": "execute_result"
    }
   ],
   "source": [
    "df.head()"
   ]
  },
  {
   "cell_type": "code",
   "execution_count": 21,
   "metadata": {},
   "outputs": [],
   "source": [
    "#Making Caffeine_mg all integers so I can make a boxplot\n",
    "df['Caffeine_mg'] = df['Caffeine_mg'].astype(int)"
   ]
  },
  {
   "cell_type": "code",
   "execution_count": 22,
   "metadata": {},
   "outputs": [
    {
     "data": {
      "text/plain": [
       "dtype('int64')"
      ]
     },
     "execution_count": 22,
     "metadata": {},
     "output_type": "execute_result"
    }
   ],
   "source": [
    "#Confirming they are all now integers\n",
    "Caffeine_mg = df['Caffeine_mg'].dtype\n",
    "Caffeine_mg\n"
   ]
  },
  {
   "cell_type": "code",
   "execution_count": 23,
   "metadata": {},
   "outputs": [
    {
     "data": {
      "text/plain": [
       "array([175, 260, 330, 410,  75, 150,  85,  95, 180, 225, 300,  10,  20,\n",
       "        25,  30,   0,  50,  70, 120,  55,  80, 110, 165, 235,  90, 125,\n",
       "       170,  15, 130, 140, 100, 145,  65, 105])"
      ]
     },
     "execution_count": 23,
     "metadata": {},
     "output_type": "execute_result"
    }
   ],
   "source": [
    "#confirming \"Varies\" has been dropped and all values are numeric \n",
    "pd.unique(df.Caffeine_mg)"
   ]
  },
  {
   "cell_type": "markdown",
   "metadata": {},
   "source": [
    "Fixing the Total Fat variable below"
   ]
  },
  {
   "cell_type": "code",
   "execution_count": 24,
   "metadata": {},
   "outputs": [
    {
     "data": {
      "text/plain": [
       "dtype('O')"
      ]
     },
     "execution_count": 24,
     "metadata": {},
     "output_type": "execute_result"
    }
   ],
   "source": [
    "#Checking if integers in other columns\n",
    "Total_Fat_g = df['Total_Fat_g'].dtype\n",
    "Total_Fat_g"
   ]
  },
  {
   "cell_type": "code",
   "execution_count": 25,
   "metadata": {},
   "outputs": [
    {
     "data": {
      "text/plain": [
       "array(['0.1', '3.5', '2.5', '0.2', '6', '4.5', '0.3', '7', '5', '0.4',\n",
       "       '9', '1.5', '4', '2', '8', '3', '11', '0', '1', '10', '15', '13',\n",
       "       '0.5', '3 2'], dtype=object)"
      ]
     },
     "execution_count": 25,
     "metadata": {},
     "output_type": "execute_result"
    }
   ],
   "source": [
    "#Because total fat isn't an integer, I'm checking to see if there are any strings or objects\n",
    "pd.unique(df.Total_Fat_g)"
   ]
  },
  {
   "cell_type": "code",
   "execution_count": 26,
   "metadata": {},
   "outputs": [
    {
     "name": "stdout",
     "output_type": "stream",
     "text": [
      "<bound method DataFrame.isnull of                  Beverage           Beverage_category       Beverage_prep  \\\n",
      "0           Brewed Coffee                      Coffee               Short   \n",
      "1           Brewed Coffee                      Coffee                Tall   \n",
      "2           Brewed Coffee                      Coffee              Grande   \n",
      "3           Brewed Coffee                      Coffee               Venti   \n",
      "4             Caffè Latte     Classic Espresso Drinks   Short Nonfat Milk   \n",
      "..                    ...                         ...                 ...   \n",
      "235  Strawberries & Crème  Frappuccino® Blended Crème          Whole Milk   \n",
      "237          Vanilla Bean  Frappuccino® Blended Crème    Tall Nonfat Milk   \n",
      "238          Vanilla Bean  Frappuccino® Blended Crème          Whole Milk   \n",
      "239          Vanilla Bean  Frappuccino® Blended Crème             Soymilk   \n",
      "240          Vanilla Bean  Frappuccino® Blended Crème  Grande Nonfat Milk   \n",
      "\n",
      "     Calories Total_Fat_g  Sugars_g  Protein_g  Caffeine_mg  \n",
      "0           3         0.1         0        0.3          175  \n",
      "1           4         0.1         0        0.5          260  \n",
      "2           5         0.1         0        1.0          330  \n",
      "3           5         0.1         0        1.0          410  \n",
      "4          70         0.1         9        6.0           75  \n",
      "..        ...         ...       ...        ...          ...  \n",
      "235       350           6        68        6.0            0  \n",
      "237       170         0.1        38        4.0            0  \n",
      "238       200         3.5        38        3.0            0  \n",
      "239       180         1.5        35        3.0            0  \n",
      "240       240         0.1        55        5.0            0  \n",
      "\n",
      "[218 rows x 8 columns]>\n"
     ]
    }
   ],
   "source": [
    "#One value is equal to 3 2, so I'm going to make it null\n",
    "df = df.replace({'Total_Fat_g': {'3 2': np.nan}})\n",
    "df.dropna(inplace=True)\n",
    "print(df.isnull)"
   ]
  },
  {
   "cell_type": "code",
   "execution_count": 27,
   "metadata": {},
   "outputs": [],
   "source": [
    "df['Total_Fat_g'] = df['Total_Fat_g'].astype(float)"
   ]
  },
  {
   "cell_type": "markdown",
   "metadata": {},
   "source": [
    "Checking that the rest of the variables are numeric and looking at unique values"
   ]
  },
  {
   "cell_type": "code",
   "execution_count": 33,
   "metadata": {},
   "outputs": [
    {
     "data": {
      "text/plain": [
       "array([  3,   4,   5,  70, 100, 150, 110, 130, 190, 170, 240, 200, 180,\n",
       "       220, 260, 230, 280, 340, 290, 160, 250, 210, 320, 270,  10,  15,\n",
       "        25,  50,  80,  60,  90, 120, 140, 300, 310, 350, 400, 370, 450,\n",
       "       510, 460, 380, 330, 360, 390, 420, 430])"
      ]
     },
     "execution_count": 33,
     "metadata": {},
     "output_type": "execute_result"
    }
   ],
   "source": [
    "pd.unique(df.Calories)"
   ]
  },
  {
   "cell_type": "code",
   "execution_count": 34,
   "metadata": {},
   "outputs": [
    {
     "data": {
      "text/plain": [
       "dtype('int64')"
      ]
     },
     "execution_count": 34,
     "metadata": {},
     "output_type": "execute_result"
    }
   ],
   "source": [
    "Calories = df['Calories'].dtype\n",
    "Calories"
   ]
  },
  {
   "cell_type": "code",
   "execution_count": 37,
   "metadata": {},
   "outputs": [
    {
     "data": {
      "text/plain": [
       "array([ 0,  9,  4, 14,  6, 18, 17,  8, 23, 22, 11, 13, 27, 26, 20, 34, 44,\n",
       "       43, 33, 35, 45,  7,  3, 10,  5, 16, 21, 15, 24, 32, 41, 40, 31, 29,\n",
       "       25, 39, 58, 51, 74, 64, 55, 54, 49, 65, 83, 28, 42, 37, 53, 46, 56,\n",
       "       71, 19, 30, 38, 36, 50, 47, 69, 66, 76, 73, 59, 77, 62, 60, 84, 80,\n",
       "       52, 68])"
      ]
     },
     "execution_count": 37,
     "metadata": {},
     "output_type": "execute_result"
    }
   ],
   "source": [
    "pd.unique(df.Sugars_g)"
   ]
  },
  {
   "cell_type": "code",
   "execution_count": 38,
   "metadata": {},
   "outputs": [
    {
     "data": {
      "text/plain": [
       "dtype('int64')"
      ]
     },
     "execution_count": 38,
     "metadata": {},
     "output_type": "execute_result"
    }
   ],
   "source": [
    "Sugars_g = df['Sugars_g'].dtype\n",
    "Sugars_g"
   ]
  },
  {
   "cell_type": "code",
   "execution_count": 35,
   "metadata": {},
   "outputs": [
    {
     "data": {
      "text/plain": [
       "array([ 0.3,  0.5,  1. ,  6. ,  5. , 10. ,  8. , 13. , 12. , 16. ,  7. ,\n",
       "        9. , 11. , 17. , 14. , 15. ,  0.4,  3. ,  4. , 19. , 18. ,  0. ,\n",
       "        0.2,  2. , 20. ])"
      ]
     },
     "execution_count": 35,
     "metadata": {},
     "output_type": "execute_result"
    }
   ],
   "source": [
    "pd.unique(df.Protein_g)"
   ]
  },
  {
   "cell_type": "code",
   "execution_count": 36,
   "metadata": {},
   "outputs": [
    {
     "data": {
      "text/plain": [
       "dtype('float64')"
      ]
     },
     "execution_count": 36,
     "metadata": {},
     "output_type": "execute_result"
    }
   ],
   "source": [
    "Protein_g = df['Protein_g'].dtype\n",
    "Protein_g"
   ]
  },
  {
   "cell_type": "markdown",
   "metadata": {},
   "source": [
    "The data is all numeric now, so box plots can be made"
   ]
  },
  {
   "cell_type": "markdown",
   "metadata": {},
   "source": [
    "### Box Plots"
   ]
  },
  {
   "cell_type": "code",
   "execution_count": 28,
   "metadata": {},
   "outputs": [
    {
     "data": {
      "text/plain": [
       "{'whiskers': [<matplotlib.lines.Line2D at 0x7fb823ab3eb0>,\n",
       "  <matplotlib.lines.Line2D at 0x7fb823bba190>],\n",
       " 'caps': [<matplotlib.lines.Line2D at 0x7fb823bba430>,\n",
       "  <matplotlib.lines.Line2D at 0x7fb823bba6d0>],\n",
       " 'boxes': [<matplotlib.lines.Line2D at 0x7fb823ab3c10>],\n",
       " 'medians': [<matplotlib.lines.Line2D at 0x7fb823bba970>],\n",
       " 'fliers': [<matplotlib.lines.Line2D at 0x7fb823bbac10>],\n",
       " 'means': []}"
      ]
     },
     "execution_count": 28,
     "metadata": {},
     "output_type": "execute_result"
    },
    {
     "data": {
      "image/png": "[encoded data removed]",
      "text/plain": [
       "<Figure size 640x480 with 1 Axes>"
      ]
     },
     "metadata": {},
     "output_type": "display_data"
    }
   ],
   "source": [
    "#Create a boxplot of Caffiene, specifically to observe outliers\n",
    "plt.boxplot(df.Caffeine_mg, )"
   ]
  },
  {
   "cell_type": "code",
   "execution_count": 29,
   "metadata": {},
   "outputs": [
    {
     "data": {
      "text/plain": [
       "{'whiskers': [<matplotlib.lines.Line2D at 0x7fb823e67ee0>,\n",
       "  <matplotlib.lines.Line2D at 0x7fb823e781c0>],\n",
       " 'caps': [<matplotlib.lines.Line2D at 0x7fb823e78460>,\n",
       "  <matplotlib.lines.Line2D at 0x7fb823e78700>],\n",
       " 'boxes': [<matplotlib.lines.Line2D at 0x7fb823e67c40>],\n",
       " 'medians': [<matplotlib.lines.Line2D at 0x7fb823e789a0>],\n",
       " 'fliers': [<matplotlib.lines.Line2D at 0x7fb823e78c40>],\n",
       " 'means': []}"
      ]
     },
     "execution_count": 29,
     "metadata": {},
     "output_type": "execute_result"
    },
    {
     "data": {
      "image/png": "[encoded data removed]",
      "text/plain": [
       "<Figure size 640x480 with 1 Axes>"
      ]
     },
     "metadata": {},
     "output_type": "display_data"
    }
   ],
   "source": [
    "#Using plots to visualize \n",
    "plt.boxplot(df.Calories)"
   ]
  },
  {
   "cell_type": "code",
   "execution_count": 30,
   "metadata": {},
   "outputs": [
    {
     "data": {
      "text/plain": [
       "{'whiskers': [<matplotlib.lines.Line2D at 0x7fb823edf880>,\n",
       "  <matplotlib.lines.Line2D at 0x7fb823edfb20>],\n",
       " 'caps': [<matplotlib.lines.Line2D at 0x7fb823edfdc0>,\n",
       "  <matplotlib.lines.Line2D at 0x7fb823feb0a0>],\n",
       " 'boxes': [<matplotlib.lines.Line2D at 0x7fb823edf5e0>],\n",
       " 'medians': [<matplotlib.lines.Line2D at 0x7fb823feb340>],\n",
       " 'fliers': [<matplotlib.lines.Line2D at 0x7fb823feb5e0>],\n",
       " 'means': []}"
      ]
     },
     "execution_count": 30,
     "metadata": {},
     "output_type": "execute_result"
    },
    {
     "data": {
      "image/png": "[encoded data removed]",
      "text/plain": [
       "<Figure size 640x480 with 1 Axes>"
      ]
     },
     "metadata": {},
     "output_type": "display_data"
    }
   ],
   "source": [
    "#Using plots to visualize \n",
    "plt.boxplot(df.Total_Fat_g)"
   ]
  },
  {
   "cell_type": "code",
   "execution_count": 32,
   "metadata": {},
   "outputs": [
    {
     "data": {
      "text/plain": [
       "{'whiskers': [<matplotlib.lines.Line2D at 0x7fb82521bf70>,\n",
       "  <matplotlib.lines.Line2D at 0x7fb825223250>],\n",
       " 'caps': [<matplotlib.lines.Line2D at 0x7fb8252234f0>,\n",
       "  <matplotlib.lines.Line2D at 0x7fb825223790>],\n",
       " 'boxes': [<matplotlib.lines.Line2D at 0x7fb82504fb80>],\n",
       " 'medians': [<matplotlib.lines.Line2D at 0x7fb8252239d0>],\n",
       " 'fliers': [<matplotlib.lines.Line2D at 0x7fb825223c70>],\n",
       " 'means': []}"
      ]
     },
     "execution_count": 32,
     "metadata": {},
     "output_type": "execute_result"
    },
    {
     "data": {
      "image/png": "[encoded data removed]",
      "text/plain": [
       "<Figure size 640x480 with 1 Axes>"
      ]
     },
     "metadata": {},
     "output_type": "display_data"
    }
   ],
   "source": [
    "#Using plots to visualize \n",
    "plt.boxplot(df.Protein_g)"
   ]
  },
  {
   "cell_type": "code",
   "execution_count": null,
   "metadata": {},
   "outputs": [
    {
     "data": {
      "text/plain": [
       "{'whiskers': [<matplotlib.lines.Line2D at 0x7f9de14a9190>,\n",
       "  <matplotlib.lines.Line2D at 0x7f9de14a9310>],\n",
       " 'caps': [<matplotlib.lines.Line2D at 0x7f9de14a95b0>,\n",
       "  <matplotlib.lines.Line2D at 0x7f9de14a9850>],\n",
       " 'boxes': [<matplotlib.lines.Line2D at 0x7f9de1497eb0>],\n",
       " 'medians': [<matplotlib.lines.Line2D at 0x7f9de14a9af0>],\n",
       " 'fliers': [<matplotlib.lines.Line2D at 0x7f9de14a9d90>],\n",
       " 'means': []}"
      ]
     },
     "execution_count": 32,
     "metadata": {},
     "output_type": "execute_result"
    },
    {
     "data": {
      "image/png": "[encoded data removed]",
      "text/plain": [
       "<Figure size 640x480 with 1 Axes>"
      ]
     },
     "metadata": {},
     "output_type": "display_data"
    }
   ],
   "source": [
    "#Using plots to visualize \n",
    "plt.boxplot(df.Sugars_g)"
   ]
  },
  {
   "cell_type": "markdown",
   "metadata": {},
   "source": [
    "Box Plot Conclusions:\n",
    "\n",
    "After looking at the boxplots, I feel comfortable with the outliers because there can be specific drinks with really high calories, fat, protein, or caffeine.\n",
    "\n",
    "The boxplots help me visualize the numbers I am working with and the range of values in each category.\n",
    "\n",
    "Also, making the box plots ensured that the variables are floats or integers, which is good so I can use them in the future with numerical features."
   ]
  },
  {
   "cell_type": "markdown",
   "metadata": {},
   "source": [
    "### Histograms"
   ]
  },
  {
   "cell_type": "code",
   "execution_count": 44,
   "metadata": {},
   "outputs": [
    {
     "data": {
      "text/plain": [
       "(array([12., 26., 39., 45., 31., 29., 21.,  8.,  4.,  3.]),\n",
       " array([  3. ,  53.7, 104.4, 155.1, 205.8, 256.5, 307.2, 357.9, 408.6,\n",
       "        459.3, 510. ]),\n",
       " <BarContainer object of 10 artists>)"
      ]
     },
     "execution_count": 44,
     "metadata": {},
     "output_type": "execute_result"
    },
    {
     "data": {
      "image/png": "[encoded data removed]",
      "text/plain": [
       "<Figure size 640x480 with 1 Axes>"
      ]
     },
     "metadata": {},
     "output_type": "display_data"
    }
   ],
   "source": [
    "plt.hist(df.Calories)"
   ]
  },
  {
   "cell_type": "code",
   "execution_count": 46,
   "metadata": {},
   "outputs": [
    {
     "data": {
      "text/plain": [
       "(array([80., 35., 37., 23., 23.,  6.,  9.,  3.,  1.,  1.]),\n",
       " array([ 0. ,  1.5,  3. ,  4.5,  6. ,  7.5,  9. , 10.5, 12. , 13.5, 15. ]),\n",
       " <BarContainer object of 10 artists>)"
      ]
     },
     "execution_count": 46,
     "metadata": {},
     "output_type": "execute_result"
    },
    {
     "data": {
      "image/png": "[encoded data removed]",
      "text/plain": [
       "<Figure size 640x480 with 1 Axes>"
      ]
     },
     "metadata": {},
     "output_type": "display_data"
    }
   ],
   "source": [
    "plt.hist(df.Total_Fat_g)"
   ]
  },
  {
   "cell_type": "code",
   "execution_count": 47,
   "metadata": {},
   "outputs": [
    {
     "data": {
      "text/plain": [
       "(array([22., 21., 39., 32., 39., 21., 18.,  8., 10.,  8.]),\n",
       " array([ 0. ,  8.4, 16.8, 25.2, 33.6, 42. , 50.4, 58.8, 67.2, 75.6, 84. ]),\n",
       " <BarContainer object of 10 artists>)"
      ]
     },
     "execution_count": 47,
     "metadata": {},
     "output_type": "execute_result"
    },
    {
     "data": {
      "image/png": "[encoded data removed]",
      "text/plain": [
       "<Figure size 640x480 with 1 Axes>"
      ]
     },
     "metadata": {},
     "output_type": "display_data"
    }
   ],
   "source": [
    "plt.hist(df.Sugars_g)"
   ]
  },
  {
   "cell_type": "code",
   "execution_count": 48,
   "metadata": {},
   "outputs": [
    {
     "data": {
      "text/plain": [
       "(array([18., 35., 40., 41., 19., 20., 14., 13., 12.,  6.]),\n",
       " array([ 0.,  2.,  4.,  6.,  8., 10., 12., 14., 16., 18., 20.]),\n",
       " <BarContainer object of 10 artists>)"
      ]
     },
     "execution_count": 48,
     "metadata": {},
     "output_type": "execute_result"
    },
    {
     "data": {
      "image/png": "[encoded data removed]",
      "text/plain": [
       "<Figure size 640x480 with 1 Axes>"
      ]
     },
     "metadata": {},
     "output_type": "display_data"
    }
   ],
   "source": [
    "plt.hist(df.Protein_g)"
   ]
  },
  {
   "cell_type": "code",
   "execution_count": 49,
   "metadata": {},
   "outputs": [
    {
     "data": {
      "text/plain": [
       "(array([52., 61., 37., 50., 12.,  2.,  1.,  1.,  1.,  1.]),\n",
       " array([  0.,  41.,  82., 123., 164., 205., 246., 287., 328., 369., 410.]),\n",
       " <BarContainer object of 10 artists>)"
      ]
     },
     "execution_count": 49,
     "metadata": {},
     "output_type": "execute_result"
    },
    {
     "data": {
      "image/png": "[encoded data removed]",
      "text/plain": [
       "<Figure size 640x480 with 1 Axes>"
      ]
     },
     "metadata": {},
     "output_type": "display_data"
    }
   ],
   "source": [
    "plt.hist(df.Caffeine_mg)"
   ]
  },
  {
   "cell_type": "markdown",
   "metadata": {},
   "source": [
    "Histograms conclusion"
   ]
  },
  {
   "cell_type": "markdown",
   "metadata": {},
   "source": [
    "These graphs helped me understand the distributions of calories, fat, sugar, protein, and caffeine\n",
    "\n",
    "Calories and sugar look generally normally distributed.\n",
    "Fat, protein, and caffeine are more right skewed."
   ]
  },
  {
   "cell_type": "markdown",
   "metadata": {},
   "source": [
    "### Data Dictionary\n",
    "\n",
    "| Variable Name    | Definition |\n",
    "| -------- | ------- |\n",
    "| Beverage  | The name of the drink in question    |\n",
    "| Beverage_category | The type of beverage in question     |\n",
    "| Beverage_prep    |  How the beverage in question is being prepared, size and milk    |\n",
    "| Calories  | The amount of calories in specific beverage    |\n",
    "| Total_Fat_g | Total fat in grams in a specific beverage     |\n",
    "| Sugars_g    | Total sugar in grams in a specfic beverage   |\n",
    "| Protein_g | Total protein in grams in a specific beverage     |\n",
    "| Caffeine_mg    | Total caffeine in milligrams in a specific beverage    |\n"
   ]
  },
  {
   "cell_type": "markdown",
   "metadata": {},
   "source": [
    "### Potential UI Components"
   ]
  },
  {
   "cell_type": "markdown",
   "metadata": {},
   "source": [
    "I want to try to include pictures of the drinks in the dataset.  \n",
    "- Layout: I aso invision text and drink selections on the left side of screen, and then visual aspects that change on the right side of the screen.  The right side of the screen changes based on what the user selects on the left side.  \n",
    "- Icons and buttons: there will be buttons to manipulate what is displayed on the right side of the screen.  Whether it's an image of a drink, or a graph comparing calories, etc\n",
    "- Navigational components: there will be a nav bar at the top to allow easy navigation\n",
    "- Colors: I will definitely include the iconic starbucks green and I think white will balance the green out well too."
   ]
  },
  {
   "cell_type": "markdown",
   "metadata": {},
   "source": [
    "### Potential Data Visualization"
   ]
  },
  {
   "cell_type": "markdown",
   "metadata": {},
   "source": [
    "- a colored line graph showing drinks that the user selects and comparing their nutritional value\n",
    "- a table listing all the nutrional information in a concise and legible view of a selected drink\n",
    "- a scatter plot of two nutrional information facts the the user can choose and filter which drinks they want to see\n",
    "- a bar graph for a drink with the bars being the different nutrional information in question"
   ]
  }
 ],
 "metadata": {
  "kernelspec": {
   "display_name": "ds4003",
   "language": "python",
   "name": "python3"
  },
  "language_info": {
   "codemirror_mode": {
    "name": "ipython",
    "version": 3
   },
   "file_extension": ".py",
   "mimetype": "text/x-python",
   "name": "python",
   "nbconvert_exporter": "python",
   "pygments_lexer": "ipython3",
   "version": "3.8.18"
  }
 },
 "nbformat": 4,
 "nbformat_minor": 2
}
